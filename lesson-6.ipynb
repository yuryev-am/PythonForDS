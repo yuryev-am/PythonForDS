{
    "cells": [
        {
            "cell_type": "markdown",
            "source": [
                "# Обучение с учителем\r\n"
            ],
            "metadata": {}
        },
        {
            "cell_type": "markdown",
            "source": [
                "## Загрузка необходимых библиотек и подготовка массивов данных"
            ],
            "metadata": {}
        },
        {
            "cell_type": "code",
            "execution_count": 281,
            "source": [
                "import pandas as pd\r\n",
                "import numpy as np\r\n",
                "from sklearn.metrics import r2_score as r2, mean_absolute_error as mae, mean_squared_error as mse\r\n",
                "from sklearn.preprocessing import StandardScaler\r\n",
                "\r\n",
                "import matplotlib.pyplot as plt\r\n",
                "import seaborn as sns\r\n",
                "\r\n",
                "%matplotlib inline"
            ],
            "outputs": [],
            "metadata": {}
        },
        {
            "cell_type": "code",
            "execution_count": 282,
            "source": [
                "from sklearn.datasets import load_boston"
            ],
            "outputs": [],
            "metadata": {}
        },
        {
            "cell_type": "code",
            "execution_count": 283,
            "source": [
                "def evaluate_preds(true_values, pred_values):\r\n",
                "    print(\"R2:\\t\" + str(round(r2(true_values, pred_values), 3)) + \"\\n\" +\r\n",
                "          \"MAE:\\t\" + str(round(mae(true_values, pred_values), 3)) + \"\\n\" +\r\n",
                "          \"MSE:\\t\" + str(round(mse(true_values, pred_values), 3)))"
            ],
            "outputs": [],
            "metadata": {}
        },
        {
            "cell_type": "code",
            "execution_count": 284,
            "source": [
                "boston = load_boston()"
            ],
            "outputs": [],
            "metadata": {}
        },
        {
            "cell_type": "code",
            "execution_count": 285,
            "source": [
                "boston.keys()"
            ],
            "outputs": [
                {
                    "output_type": "execute_result",
                    "data": {
                        "text/plain": [
                            "dict_keys(['data', 'target', 'feature_names', 'DESCR', 'filename'])"
                        ]
                    },
                    "metadata": {},
                    "execution_count": 285
                }
            ],
            "metadata": {}
        },
        {
            "cell_type": "code",
            "execution_count": 286,
            "source": [
                "feature_names = boston[\"feature_names\"]\r\n",
                "\r\n",
                "feature_names"
            ],
            "outputs": [
                {
                    "output_type": "execute_result",
                    "data": {
                        "text/plain": [
                            "array(['CRIM', 'ZN', 'INDUS', 'CHAS', 'NOX', 'RM', 'AGE', 'DIS', 'RAD',\n",
                            "       'TAX', 'PTRATIO', 'B', 'LSTAT'], dtype='<U7')"
                        ]
                    },
                    "metadata": {},
                    "execution_count": 286
                }
            ],
            "metadata": {}
        },
        {
            "cell_type": "code",
            "execution_count": 287,
            "source": [
                "print(boston[\"DESCR\"])"
            ],
            "outputs": [
                {
                    "output_type": "stream",
                    "name": "stdout",
                    "text": [
                        ".. _boston_dataset:\n",
                        "\n",
                        "Boston house prices dataset\n",
                        "---------------------------\n",
                        "\n",
                        "**Data Set Characteristics:**  \n",
                        "\n",
                        "    :Number of Instances: 506 \n",
                        "\n",
                        "    :Number of Attributes: 13 numeric/categorical predictive. Median Value (attribute 14) is usually the target.\n",
                        "\n",
                        "    :Attribute Information (in order):\n",
                        "        - CRIM     per capita crime rate by town\n",
                        "        - ZN       proportion of residential land zoned for lots over 25,000 sq.ft.\n",
                        "        - INDUS    proportion of non-retail business acres per town\n",
                        "        - CHAS     Charles River dummy variable (= 1 if tract bounds river; 0 otherwise)\n",
                        "        - NOX      nitric oxides concentration (parts per 10 million)\n",
                        "        - RM       average number of rooms per dwelling\n",
                        "        - AGE      proportion of owner-occupied units built prior to 1940\n",
                        "        - DIS      weighted distances to five Boston employment centres\n",
                        "        - RAD      index of accessibility to radial highways\n",
                        "        - TAX      full-value property-tax rate per $10,000\n",
                        "        - PTRATIO  pupil-teacher ratio by town\n",
                        "        - B        1000(Bk - 0.63)^2 where Bk is the proportion of black people by town\n",
                        "        - LSTAT    % lower status of the population\n",
                        "        - MEDV     Median value of owner-occupied homes in $1000's\n",
                        "\n",
                        "    :Missing Attribute Values: None\n",
                        "\n",
                        "    :Creator: Harrison, D. and Rubinfeld, D.L.\n",
                        "\n",
                        "This is a copy of UCI ML housing dataset.\n",
                        "https://archive.ics.uci.edu/ml/machine-learning-databases/housing/\n",
                        "\n",
                        "\n",
                        "This dataset was taken from the StatLib library which is maintained at Carnegie Mellon University.\n",
                        "\n",
                        "The Boston house-price data of Harrison, D. and Rubinfeld, D.L. 'Hedonic\n",
                        "prices and the demand for clean air', J. Environ. Economics & Management,\n",
                        "vol.5, 81-102, 1978.   Used in Belsley, Kuh & Welsch, 'Regression diagnostics\n",
                        "...', Wiley, 1980.   N.B. Various transformations are used in the table on\n",
                        "pages 244-261 of the latter.\n",
                        "\n",
                        "The Boston house-price data has been used in many machine learning papers that address regression\n",
                        "problems.   \n",
                        "     \n",
                        ".. topic:: References\n",
                        "\n",
                        "   - Belsley, Kuh & Welsch, 'Regression diagnostics: Identifying Influential Data and Sources of Collinearity', Wiley, 1980. 244-261.\n",
                        "   - Quinlan,R. (1993). Combining Instance-Based and Model-Based Learning. In Proceedings on the Tenth International Conference of Machine Learning, 236-243, University of Massachusetts, Amherst. Morgan Kaufmann.\n",
                        "\n"
                    ]
                }
            ],
            "metadata": {}
        },
        {
            "cell_type": "code",
            "execution_count": 288,
            "source": [
                "X = pd.DataFrame(data, columns=feature_names)\r\n",
                "\r\n",
                "X.head()"
            ],
            "outputs": [
                {
                    "output_type": "execute_result",
                    "data": {
                        "text/plain": [
                            "       CRIM        ZN     INDUS      CHAS       NOX        RM       AGE  \\\n",
                            "0 -0.419782  0.284830 -1.287909 -0.272599 -0.144217  0.413672 -0.120013   \n",
                            "1 -0.417339 -0.487722 -0.593381 -0.272599 -0.740262  0.194274  0.367166   \n",
                            "2 -0.417342 -0.487722 -0.593381 -0.272599 -0.740262  1.282714 -0.265812   \n",
                            "3 -0.416750 -0.487722 -1.306878 -0.272599 -0.835284  1.016303 -0.809889   \n",
                            "4 -0.412482 -0.487722 -1.306878 -0.272599 -0.835284  1.228577 -0.511180   \n",
                            "\n",
                            "        DIS       RAD       TAX   PTRATIO         B     LSTAT  \n",
                            "0  0.140214 -0.982843 -0.666608 -1.459000  0.441052 -1.075562  \n",
                            "1  0.557160 -0.867883 -0.987329 -0.303094  0.441052 -0.492439  \n",
                            "2  0.557160 -0.867883 -0.987329 -0.303094  0.396427 -1.208727  \n",
                            "3  1.077737 -0.752922 -1.106115  0.113032  0.416163 -1.361517  \n",
                            "4  1.077737 -0.752922 -1.106115  0.113032  0.441052 -1.026501  "
                        ],
                        "text/html": [
                            "<div>\n",
                            "<style scoped>\n",
                            "    .dataframe tbody tr th:only-of-type {\n",
                            "        vertical-align: middle;\n",
                            "    }\n",
                            "\n",
                            "    .dataframe tbody tr th {\n",
                            "        vertical-align: top;\n",
                            "    }\n",
                            "\n",
                            "    .dataframe thead th {\n",
                            "        text-align: right;\n",
                            "    }\n",
                            "</style>\n",
                            "<table border=\"1\" class=\"dataframe\">\n",
                            "  <thead>\n",
                            "    <tr style=\"text-align: right;\">\n",
                            "      <th></th>\n",
                            "      <th>CRIM</th>\n",
                            "      <th>ZN</th>\n",
                            "      <th>INDUS</th>\n",
                            "      <th>CHAS</th>\n",
                            "      <th>NOX</th>\n",
                            "      <th>RM</th>\n",
                            "      <th>AGE</th>\n",
                            "      <th>DIS</th>\n",
                            "      <th>RAD</th>\n",
                            "      <th>TAX</th>\n",
                            "      <th>PTRATIO</th>\n",
                            "      <th>B</th>\n",
                            "      <th>LSTAT</th>\n",
                            "    </tr>\n",
                            "  </thead>\n",
                            "  <tbody>\n",
                            "    <tr>\n",
                            "      <th>0</th>\n",
                            "      <td>-0.419782</td>\n",
                            "      <td>0.284830</td>\n",
                            "      <td>-1.287909</td>\n",
                            "      <td>-0.272599</td>\n",
                            "      <td>-0.144217</td>\n",
                            "      <td>0.413672</td>\n",
                            "      <td>-0.120013</td>\n",
                            "      <td>0.140214</td>\n",
                            "      <td>-0.982843</td>\n",
                            "      <td>-0.666608</td>\n",
                            "      <td>-1.459000</td>\n",
                            "      <td>0.441052</td>\n",
                            "      <td>-1.075562</td>\n",
                            "    </tr>\n",
                            "    <tr>\n",
                            "      <th>1</th>\n",
                            "      <td>-0.417339</td>\n",
                            "      <td>-0.487722</td>\n",
                            "      <td>-0.593381</td>\n",
                            "      <td>-0.272599</td>\n",
                            "      <td>-0.740262</td>\n",
                            "      <td>0.194274</td>\n",
                            "      <td>0.367166</td>\n",
                            "      <td>0.557160</td>\n",
                            "      <td>-0.867883</td>\n",
                            "      <td>-0.987329</td>\n",
                            "      <td>-0.303094</td>\n",
                            "      <td>0.441052</td>\n",
                            "      <td>-0.492439</td>\n",
                            "    </tr>\n",
                            "    <tr>\n",
                            "      <th>2</th>\n",
                            "      <td>-0.417342</td>\n",
                            "      <td>-0.487722</td>\n",
                            "      <td>-0.593381</td>\n",
                            "      <td>-0.272599</td>\n",
                            "      <td>-0.740262</td>\n",
                            "      <td>1.282714</td>\n",
                            "      <td>-0.265812</td>\n",
                            "      <td>0.557160</td>\n",
                            "      <td>-0.867883</td>\n",
                            "      <td>-0.987329</td>\n",
                            "      <td>-0.303094</td>\n",
                            "      <td>0.396427</td>\n",
                            "      <td>-1.208727</td>\n",
                            "    </tr>\n",
                            "    <tr>\n",
                            "      <th>3</th>\n",
                            "      <td>-0.416750</td>\n",
                            "      <td>-0.487722</td>\n",
                            "      <td>-1.306878</td>\n",
                            "      <td>-0.272599</td>\n",
                            "      <td>-0.835284</td>\n",
                            "      <td>1.016303</td>\n",
                            "      <td>-0.809889</td>\n",
                            "      <td>1.077737</td>\n",
                            "      <td>-0.752922</td>\n",
                            "      <td>-1.106115</td>\n",
                            "      <td>0.113032</td>\n",
                            "      <td>0.416163</td>\n",
                            "      <td>-1.361517</td>\n",
                            "    </tr>\n",
                            "    <tr>\n",
                            "      <th>4</th>\n",
                            "      <td>-0.412482</td>\n",
                            "      <td>-0.487722</td>\n",
                            "      <td>-1.306878</td>\n",
                            "      <td>-0.272599</td>\n",
                            "      <td>-0.835284</td>\n",
                            "      <td>1.228577</td>\n",
                            "      <td>-0.511180</td>\n",
                            "      <td>1.077737</td>\n",
                            "      <td>-0.752922</td>\n",
                            "      <td>-1.106115</td>\n",
                            "      <td>0.113032</td>\n",
                            "      <td>0.441052</td>\n",
                            "      <td>-1.026501</td>\n",
                            "    </tr>\n",
                            "  </tbody>\n",
                            "</table>\n",
                            "</div>"
                        ]
                    },
                    "metadata": {},
                    "execution_count": 288
                }
            ],
            "metadata": {}
        },
        {
            "cell_type": "code",
            "execution_count": 289,
            "source": [
                "X.info()"
            ],
            "outputs": [
                {
                    "output_type": "stream",
                    "name": "stdout",
                    "text": [
                        "<class 'pandas.core.frame.DataFrame'>\n",
                        "RangeIndex: 506 entries, 0 to 505\n",
                        "Data columns (total 13 columns):\n",
                        " #   Column   Non-Null Count  Dtype  \n",
                        "---  ------   --------------  -----  \n",
                        " 0   CRIM     506 non-null    float64\n",
                        " 1   ZN       506 non-null    float64\n",
                        " 2   INDUS    506 non-null    float64\n",
                        " 3   CHAS     506 non-null    float64\n",
                        " 4   NOX      506 non-null    float64\n",
                        " 5   RM       506 non-null    float64\n",
                        " 6   AGE      506 non-null    float64\n",
                        " 7   DIS      506 non-null    float64\n",
                        " 8   RAD      506 non-null    float64\n",
                        " 9   TAX      506 non-null    float64\n",
                        " 10  PTRATIO  506 non-null    float64\n",
                        " 11  B        506 non-null    float64\n",
                        " 12  LSTAT    506 non-null    float64\n",
                        "dtypes: float64(13)\n",
                        "memory usage: 51.5 KB\n"
                    ]
                }
            ],
            "metadata": {}
        },
        {
            "cell_type": "markdown",
            "source": [
                "Нормирование признаков"
            ],
            "metadata": {}
        },
        {
            "cell_type": "code",
            "execution_count": 290,
            "source": [
                "scaler = StandardScaler()\r\n",
                "stand_features = scaler.fit_transform(X[feature_names])"
            ],
            "outputs": [],
            "metadata": {}
        },
        {
            "cell_type": "code",
            "execution_count": 291,
            "source": [
                "X[feature_names] = pd.DataFrame(stand_features, columns=feature_names)"
            ],
            "outputs": [],
            "metadata": {}
        },
        {
            "cell_type": "code",
            "execution_count": 292,
            "source": [
                "X.head()"
            ],
            "outputs": [
                {
                    "output_type": "execute_result",
                    "data": {
                        "text/plain": [
                            "       CRIM        ZN     INDUS      CHAS       NOX        RM       AGE  \\\n",
                            "0 -0.419782  0.284830 -1.287909 -0.272599 -0.144217  0.413672 -0.120013   \n",
                            "1 -0.417339 -0.487722 -0.593381 -0.272599 -0.740262  0.194274  0.367166   \n",
                            "2 -0.417342 -0.487722 -0.593381 -0.272599 -0.740262  1.282714 -0.265812   \n",
                            "3 -0.416750 -0.487722 -1.306878 -0.272599 -0.835284  1.016303 -0.809889   \n",
                            "4 -0.412482 -0.487722 -1.306878 -0.272599 -0.835284  1.228577 -0.511180   \n",
                            "\n",
                            "        DIS       RAD       TAX   PTRATIO         B     LSTAT  \n",
                            "0  0.140214 -0.982843 -0.666608 -1.459000  0.441052 -1.075562  \n",
                            "1  0.557160 -0.867883 -0.987329 -0.303094  0.441052 -0.492439  \n",
                            "2  0.557160 -0.867883 -0.987329 -0.303094  0.396427 -1.208727  \n",
                            "3  1.077737 -0.752922 -1.106115  0.113032  0.416163 -1.361517  \n",
                            "4  1.077737 -0.752922 -1.106115  0.113032  0.441052 -1.026501  "
                        ],
                        "text/html": [
                            "<div>\n",
                            "<style scoped>\n",
                            "    .dataframe tbody tr th:only-of-type {\n",
                            "        vertical-align: middle;\n",
                            "    }\n",
                            "\n",
                            "    .dataframe tbody tr th {\n",
                            "        vertical-align: top;\n",
                            "    }\n",
                            "\n",
                            "    .dataframe thead th {\n",
                            "        text-align: right;\n",
                            "    }\n",
                            "</style>\n",
                            "<table border=\"1\" class=\"dataframe\">\n",
                            "  <thead>\n",
                            "    <tr style=\"text-align: right;\">\n",
                            "      <th></th>\n",
                            "      <th>CRIM</th>\n",
                            "      <th>ZN</th>\n",
                            "      <th>INDUS</th>\n",
                            "      <th>CHAS</th>\n",
                            "      <th>NOX</th>\n",
                            "      <th>RM</th>\n",
                            "      <th>AGE</th>\n",
                            "      <th>DIS</th>\n",
                            "      <th>RAD</th>\n",
                            "      <th>TAX</th>\n",
                            "      <th>PTRATIO</th>\n",
                            "      <th>B</th>\n",
                            "      <th>LSTAT</th>\n",
                            "    </tr>\n",
                            "  </thead>\n",
                            "  <tbody>\n",
                            "    <tr>\n",
                            "      <th>0</th>\n",
                            "      <td>-0.419782</td>\n",
                            "      <td>0.284830</td>\n",
                            "      <td>-1.287909</td>\n",
                            "      <td>-0.272599</td>\n",
                            "      <td>-0.144217</td>\n",
                            "      <td>0.413672</td>\n",
                            "      <td>-0.120013</td>\n",
                            "      <td>0.140214</td>\n",
                            "      <td>-0.982843</td>\n",
                            "      <td>-0.666608</td>\n",
                            "      <td>-1.459000</td>\n",
                            "      <td>0.441052</td>\n",
                            "      <td>-1.075562</td>\n",
                            "    </tr>\n",
                            "    <tr>\n",
                            "      <th>1</th>\n",
                            "      <td>-0.417339</td>\n",
                            "      <td>-0.487722</td>\n",
                            "      <td>-0.593381</td>\n",
                            "      <td>-0.272599</td>\n",
                            "      <td>-0.740262</td>\n",
                            "      <td>0.194274</td>\n",
                            "      <td>0.367166</td>\n",
                            "      <td>0.557160</td>\n",
                            "      <td>-0.867883</td>\n",
                            "      <td>-0.987329</td>\n",
                            "      <td>-0.303094</td>\n",
                            "      <td>0.441052</td>\n",
                            "      <td>-0.492439</td>\n",
                            "    </tr>\n",
                            "    <tr>\n",
                            "      <th>2</th>\n",
                            "      <td>-0.417342</td>\n",
                            "      <td>-0.487722</td>\n",
                            "      <td>-0.593381</td>\n",
                            "      <td>-0.272599</td>\n",
                            "      <td>-0.740262</td>\n",
                            "      <td>1.282714</td>\n",
                            "      <td>-0.265812</td>\n",
                            "      <td>0.557160</td>\n",
                            "      <td>-0.867883</td>\n",
                            "      <td>-0.987329</td>\n",
                            "      <td>-0.303094</td>\n",
                            "      <td>0.396427</td>\n",
                            "      <td>-1.208727</td>\n",
                            "    </tr>\n",
                            "    <tr>\n",
                            "      <th>3</th>\n",
                            "      <td>-0.416750</td>\n",
                            "      <td>-0.487722</td>\n",
                            "      <td>-1.306878</td>\n",
                            "      <td>-0.272599</td>\n",
                            "      <td>-0.835284</td>\n",
                            "      <td>1.016303</td>\n",
                            "      <td>-0.809889</td>\n",
                            "      <td>1.077737</td>\n",
                            "      <td>-0.752922</td>\n",
                            "      <td>-1.106115</td>\n",
                            "      <td>0.113032</td>\n",
                            "      <td>0.416163</td>\n",
                            "      <td>-1.361517</td>\n",
                            "    </tr>\n",
                            "    <tr>\n",
                            "      <th>4</th>\n",
                            "      <td>-0.412482</td>\n",
                            "      <td>-0.487722</td>\n",
                            "      <td>-1.306878</td>\n",
                            "      <td>-0.272599</td>\n",
                            "      <td>-0.835284</td>\n",
                            "      <td>1.228577</td>\n",
                            "      <td>-0.511180</td>\n",
                            "      <td>1.077737</td>\n",
                            "      <td>-0.752922</td>\n",
                            "      <td>-1.106115</td>\n",
                            "      <td>0.113032</td>\n",
                            "      <td>0.441052</td>\n",
                            "      <td>-1.026501</td>\n",
                            "    </tr>\n",
                            "  </tbody>\n",
                            "</table>\n",
                            "</div>"
                        ]
                    },
                    "metadata": {},
                    "execution_count": 292
                }
            ],
            "metadata": {}
        },
        {
            "cell_type": "code",
            "execution_count": 293,
            "source": [
                "target = boston[\"target\"]\r\n",
                "\r\n",
                "target[:10]"
            ],
            "outputs": [
                {
                    "output_type": "execute_result",
                    "data": {
                        "text/plain": [
                            "array([24. , 21.6, 34.7, 33.4, 36.2, 28.7, 22.9, 27.1, 16.5, 18.9])"
                        ]
                    },
                    "metadata": {},
                    "execution_count": 293
                }
            ],
            "metadata": {}
        },
        {
            "cell_type": "code",
            "execution_count": 294,
            "source": [
                "y = pd.DataFrame(target, columns=[\"price\"])\r\n",
                "\r\n",
                "y.info()"
            ],
            "outputs": [
                {
                    "output_type": "stream",
                    "name": "stdout",
                    "text": [
                        "<class 'pandas.core.frame.DataFrame'>\n",
                        "RangeIndex: 506 entries, 0 to 505\n",
                        "Data columns (total 1 columns):\n",
                        " #   Column  Non-Null Count  Dtype  \n",
                        "---  ------  --------------  -----  \n",
                        " 0   price   506 non-null    float64\n",
                        "dtypes: float64(1)\n",
                        "memory usage: 4.1 KB\n"
                    ]
                }
            ],
            "metadata": {}
        },
        {
            "cell_type": "code",
            "execution_count": 295,
            "source": [
                "from sklearn.model_selection import train_test_split"
            ],
            "outputs": [],
            "metadata": {}
        },
        {
            "cell_type": "code",
            "execution_count": 296,
            "source": [
                "X_train, X_test, y_train, y_test = train_test_split(X, y, test_size=0.3, shuffle=True, random_state=42)"
            ],
            "outputs": [],
            "metadata": {}
        },
        {
            "cell_type": "markdown",
            "source": [
                "## Задание 1. Линейная регрессия."
            ],
            "metadata": {}
        },
        {
            "cell_type": "code",
            "execution_count": 297,
            "source": [
                "from sklearn.linear_model import LinearRegression"
            ],
            "outputs": [],
            "metadata": {}
        },
        {
            "cell_type": "code",
            "execution_count": 298,
            "source": [
                "lr = LinearRegression()"
            ],
            "outputs": [],
            "metadata": {}
        },
        {
            "cell_type": "code",
            "execution_count": 299,
            "source": [
                "lr.fit(X_train, y_train)"
            ],
            "outputs": [
                {
                    "output_type": "execute_result",
                    "data": {
                        "text/plain": [
                            "LinearRegression()"
                        ]
                    },
                    "metadata": {},
                    "execution_count": 299
                }
            ],
            "metadata": {}
        },
        {
            "cell_type": "code",
            "execution_count": 300,
            "source": [
                "y_pred = lr.predict(X_test)"
            ],
            "outputs": [],
            "metadata": {}
        },
        {
            "cell_type": "code",
            "execution_count": 301,
            "source": [
                "check_test = pd.DataFrame({\r\n",
                "    \"y_test\": y_test[\"price\"],\r\n",
                "    \"y_pred\": y_pred.flatten(),\r\n",
                "})\r\n",
                "\r\n",
                "check_test.head(10)"
            ],
            "outputs": [
                {
                    "output_type": "execute_result",
                    "data": {
                        "text/plain": [
                            "     y_test     y_pred\n",
                            "173    23.6  28.648960\n",
                            "274    32.4  36.495014\n",
                            "491    13.6  15.411193\n",
                            "72     22.8  25.403213\n",
                            "452    16.1  18.855280\n",
                            "76     20.0  23.146689\n",
                            "316    17.8  17.392124\n",
                            "140    14.0  14.078599\n",
                            "471    19.6  23.036927\n",
                            "500    16.8  20.599433"
                        ],
                        "text/html": [
                            "<div>\n",
                            "<style scoped>\n",
                            "    .dataframe tbody tr th:only-of-type {\n",
                            "        vertical-align: middle;\n",
                            "    }\n",
                            "\n",
                            "    .dataframe tbody tr th {\n",
                            "        vertical-align: top;\n",
                            "    }\n",
                            "\n",
                            "    .dataframe thead th {\n",
                            "        text-align: right;\n",
                            "    }\n",
                            "</style>\n",
                            "<table border=\"1\" class=\"dataframe\">\n",
                            "  <thead>\n",
                            "    <tr style=\"text-align: right;\">\n",
                            "      <th></th>\n",
                            "      <th>y_test</th>\n",
                            "      <th>y_pred</th>\n",
                            "    </tr>\n",
                            "  </thead>\n",
                            "  <tbody>\n",
                            "    <tr>\n",
                            "      <th>173</th>\n",
                            "      <td>23.6</td>\n",
                            "      <td>28.648960</td>\n",
                            "    </tr>\n",
                            "    <tr>\n",
                            "      <th>274</th>\n",
                            "      <td>32.4</td>\n",
                            "      <td>36.495014</td>\n",
                            "    </tr>\n",
                            "    <tr>\n",
                            "      <th>491</th>\n",
                            "      <td>13.6</td>\n",
                            "      <td>15.411193</td>\n",
                            "    </tr>\n",
                            "    <tr>\n",
                            "      <th>72</th>\n",
                            "      <td>22.8</td>\n",
                            "      <td>25.403213</td>\n",
                            "    </tr>\n",
                            "    <tr>\n",
                            "      <th>452</th>\n",
                            "      <td>16.1</td>\n",
                            "      <td>18.855280</td>\n",
                            "    </tr>\n",
                            "    <tr>\n",
                            "      <th>76</th>\n",
                            "      <td>20.0</td>\n",
                            "      <td>23.146689</td>\n",
                            "    </tr>\n",
                            "    <tr>\n",
                            "      <th>316</th>\n",
                            "      <td>17.8</td>\n",
                            "      <td>17.392124</td>\n",
                            "    </tr>\n",
                            "    <tr>\n",
                            "      <th>140</th>\n",
                            "      <td>14.0</td>\n",
                            "      <td>14.078599</td>\n",
                            "    </tr>\n",
                            "    <tr>\n",
                            "      <th>471</th>\n",
                            "      <td>19.6</td>\n",
                            "      <td>23.036927</td>\n",
                            "    </tr>\n",
                            "    <tr>\n",
                            "      <th>500</th>\n",
                            "      <td>16.8</td>\n",
                            "      <td>20.599433</td>\n",
                            "    </tr>\n",
                            "  </tbody>\n",
                            "</table>\n",
                            "</div>"
                        ]
                    },
                    "metadata": {},
                    "execution_count": 301
                }
            ],
            "metadata": {}
        },
        {
            "cell_type": "code",
            "execution_count": 302,
            "source": [
                "check_test[\"error\"] = check_test[\"y_pred\"] - check_test[\"y_test\"]\r\n",
                "\r\n",
                "check_test.head()"
            ],
            "outputs": [
                {
                    "output_type": "execute_result",
                    "data": {
                        "text/plain": [
                            "     y_test     y_pred     error\n",
                            "173    23.6  28.648960  5.048960\n",
                            "274    32.4  36.495014  4.095014\n",
                            "491    13.6  15.411193  1.811193\n",
                            "72     22.8  25.403213  2.603213\n",
                            "452    16.1  18.855280  2.755280"
                        ],
                        "text/html": [
                            "<div>\n",
                            "<style scoped>\n",
                            "    .dataframe tbody tr th:only-of-type {\n",
                            "        vertical-align: middle;\n",
                            "    }\n",
                            "\n",
                            "    .dataframe tbody tr th {\n",
                            "        vertical-align: top;\n",
                            "    }\n",
                            "\n",
                            "    .dataframe thead th {\n",
                            "        text-align: right;\n",
                            "    }\n",
                            "</style>\n",
                            "<table border=\"1\" class=\"dataframe\">\n",
                            "  <thead>\n",
                            "    <tr style=\"text-align: right;\">\n",
                            "      <th></th>\n",
                            "      <th>y_test</th>\n",
                            "      <th>y_pred</th>\n",
                            "      <th>error</th>\n",
                            "    </tr>\n",
                            "  </thead>\n",
                            "  <tbody>\n",
                            "    <tr>\n",
                            "      <th>173</th>\n",
                            "      <td>23.6</td>\n",
                            "      <td>28.648960</td>\n",
                            "      <td>5.048960</td>\n",
                            "    </tr>\n",
                            "    <tr>\n",
                            "      <th>274</th>\n",
                            "      <td>32.4</td>\n",
                            "      <td>36.495014</td>\n",
                            "      <td>4.095014</td>\n",
                            "    </tr>\n",
                            "    <tr>\n",
                            "      <th>491</th>\n",
                            "      <td>13.6</td>\n",
                            "      <td>15.411193</td>\n",
                            "      <td>1.811193</td>\n",
                            "    </tr>\n",
                            "    <tr>\n",
                            "      <th>72</th>\n",
                            "      <td>22.8</td>\n",
                            "      <td>25.403213</td>\n",
                            "      <td>2.603213</td>\n",
                            "    </tr>\n",
                            "    <tr>\n",
                            "      <th>452</th>\n",
                            "      <td>16.1</td>\n",
                            "      <td>18.855280</td>\n",
                            "      <td>2.755280</td>\n",
                            "    </tr>\n",
                            "  </tbody>\n",
                            "</table>\n",
                            "</div>"
                        ]
                    },
                    "metadata": {},
                    "execution_count": 302
                }
            ],
            "metadata": {}
        },
        {
            "cell_type": "code",
            "execution_count": 303,
            "source": [
                "evaluate_preds(check_test[\"y_test\"], check_test[\"y_pred\"])"
            ],
            "outputs": [
                {
                    "output_type": "stream",
                    "name": "stdout",
                    "text": [
                        "R2:\t0.711\n",
                        "MAE:\t3.163\n",
                        "MSE:\t21.517\n"
                    ]
                }
            ],
            "metadata": {}
        },
        {
            "cell_type": "markdown",
            "source": [
                "## Задание 2. Случайный лес."
            ],
            "metadata": {}
        },
        {
            "cell_type": "code",
            "execution_count": 304,
            "source": [
                "from sklearn.ensemble import RandomForestRegressor"
            ],
            "outputs": [],
            "metadata": {}
        },
        {
            "cell_type": "code",
            "execution_count": 305,
            "source": [
                "forest_model = RandomForestRegressor(n_estimators = 1000, max_depth = 12, random_state = 42)"
            ],
            "outputs": [],
            "metadata": {}
        },
        {
            "cell_type": "code",
            "execution_count": 306,
            "source": [
                "forest_model.fit(X_train, y_train.values[:, 0])"
            ],
            "outputs": [
                {
                    "output_type": "execute_result",
                    "data": {
                        "text/plain": [
                            "RandomForestRegressor(max_depth=12, n_estimators=1000, random_state=42)"
                        ]
                    },
                    "metadata": {},
                    "execution_count": 306
                }
            ],
            "metadata": {}
        },
        {
            "cell_type": "code",
            "execution_count": 307,
            "source": [
                "y_pred = forest_model.predict(X_test)"
            ],
            "outputs": [],
            "metadata": {}
        },
        {
            "cell_type": "code",
            "execution_count": 308,
            "source": [
                "check_test = pd.DataFrame({\r\n",
                "    \"y_test\": y_test[\"price\"],\r\n",
                "    \"y_pred\": y_pred.flatten(),\r\n",
                "})\r\n",
                "\r\n",
                "check_test.head(10)"
            ],
            "outputs": [
                {
                    "output_type": "execute_result",
                    "data": {
                        "text/plain": [
                            "     y_test     y_pred\n",
                            "173    23.6  22.810912\n",
                            "274    32.4  31.129964\n",
                            "491    13.6  16.339125\n",
                            "72     22.8  23.807886\n",
                            "452    16.1  17.139521\n",
                            "76     20.0  21.846798\n",
                            "316    17.8  19.896947\n",
                            "140    14.0  14.754118\n",
                            "471    19.6  21.240535\n",
                            "500    16.8  20.898658"
                        ],
                        "text/html": [
                            "<div>\n",
                            "<style scoped>\n",
                            "    .dataframe tbody tr th:only-of-type {\n",
                            "        vertical-align: middle;\n",
                            "    }\n",
                            "\n",
                            "    .dataframe tbody tr th {\n",
                            "        vertical-align: top;\n",
                            "    }\n",
                            "\n",
                            "    .dataframe thead th {\n",
                            "        text-align: right;\n",
                            "    }\n",
                            "</style>\n",
                            "<table border=\"1\" class=\"dataframe\">\n",
                            "  <thead>\n",
                            "    <tr style=\"text-align: right;\">\n",
                            "      <th></th>\n",
                            "      <th>y_test</th>\n",
                            "      <th>y_pred</th>\n",
                            "    </tr>\n",
                            "  </thead>\n",
                            "  <tbody>\n",
                            "    <tr>\n",
                            "      <th>173</th>\n",
                            "      <td>23.6</td>\n",
                            "      <td>22.810912</td>\n",
                            "    </tr>\n",
                            "    <tr>\n",
                            "      <th>274</th>\n",
                            "      <td>32.4</td>\n",
                            "      <td>31.129964</td>\n",
                            "    </tr>\n",
                            "    <tr>\n",
                            "      <th>491</th>\n",
                            "      <td>13.6</td>\n",
                            "      <td>16.339125</td>\n",
                            "    </tr>\n",
                            "    <tr>\n",
                            "      <th>72</th>\n",
                            "      <td>22.8</td>\n",
                            "      <td>23.807886</td>\n",
                            "    </tr>\n",
                            "    <tr>\n",
                            "      <th>452</th>\n",
                            "      <td>16.1</td>\n",
                            "      <td>17.139521</td>\n",
                            "    </tr>\n",
                            "    <tr>\n",
                            "      <th>76</th>\n",
                            "      <td>20.0</td>\n",
                            "      <td>21.846798</td>\n",
                            "    </tr>\n",
                            "    <tr>\n",
                            "      <th>316</th>\n",
                            "      <td>17.8</td>\n",
                            "      <td>19.896947</td>\n",
                            "    </tr>\n",
                            "    <tr>\n",
                            "      <th>140</th>\n",
                            "      <td>14.0</td>\n",
                            "      <td>14.754118</td>\n",
                            "    </tr>\n",
                            "    <tr>\n",
                            "      <th>471</th>\n",
                            "      <td>19.6</td>\n",
                            "      <td>21.240535</td>\n",
                            "    </tr>\n",
                            "    <tr>\n",
                            "      <th>500</th>\n",
                            "      <td>16.8</td>\n",
                            "      <td>20.898658</td>\n",
                            "    </tr>\n",
                            "  </tbody>\n",
                            "</table>\n",
                            "</div>"
                        ]
                    },
                    "metadata": {},
                    "execution_count": 308
                }
            ],
            "metadata": {}
        },
        {
            "cell_type": "code",
            "execution_count": 309,
            "source": [
                "check_test[\"error\"] = check_test[\"y_pred\"] - check_test[\"y_test\"]\r\n",
                "\r\n",
                "check_test.head()"
            ],
            "outputs": [
                {
                    "output_type": "execute_result",
                    "data": {
                        "text/plain": [
                            "     y_test     y_pred     error\n",
                            "173    23.6  22.810912 -0.789088\n",
                            "274    32.4  31.129964 -1.270036\n",
                            "491    13.6  16.339125  2.739125\n",
                            "72     22.8  23.807886  1.007886\n",
                            "452    16.1  17.139521  1.039521"
                        ],
                        "text/html": [
                            "<div>\n",
                            "<style scoped>\n",
                            "    .dataframe tbody tr th:only-of-type {\n",
                            "        vertical-align: middle;\n",
                            "    }\n",
                            "\n",
                            "    .dataframe tbody tr th {\n",
                            "        vertical-align: top;\n",
                            "    }\n",
                            "\n",
                            "    .dataframe thead th {\n",
                            "        text-align: right;\n",
                            "    }\n",
                            "</style>\n",
                            "<table border=\"1\" class=\"dataframe\">\n",
                            "  <thead>\n",
                            "    <tr style=\"text-align: right;\">\n",
                            "      <th></th>\n",
                            "      <th>y_test</th>\n",
                            "      <th>y_pred</th>\n",
                            "      <th>error</th>\n",
                            "    </tr>\n",
                            "  </thead>\n",
                            "  <tbody>\n",
                            "    <tr>\n",
                            "      <th>173</th>\n",
                            "      <td>23.6</td>\n",
                            "      <td>22.810912</td>\n",
                            "      <td>-0.789088</td>\n",
                            "    </tr>\n",
                            "    <tr>\n",
                            "      <th>274</th>\n",
                            "      <td>32.4</td>\n",
                            "      <td>31.129964</td>\n",
                            "      <td>-1.270036</td>\n",
                            "    </tr>\n",
                            "    <tr>\n",
                            "      <th>491</th>\n",
                            "      <td>13.6</td>\n",
                            "      <td>16.339125</td>\n",
                            "      <td>2.739125</td>\n",
                            "    </tr>\n",
                            "    <tr>\n",
                            "      <th>72</th>\n",
                            "      <td>22.8</td>\n",
                            "      <td>23.807886</td>\n",
                            "      <td>1.007886</td>\n",
                            "    </tr>\n",
                            "    <tr>\n",
                            "      <th>452</th>\n",
                            "      <td>16.1</td>\n",
                            "      <td>17.139521</td>\n",
                            "      <td>1.039521</td>\n",
                            "    </tr>\n",
                            "  </tbody>\n",
                            "</table>\n",
                            "</div>"
                        ]
                    },
                    "metadata": {},
                    "execution_count": 309
                }
            ],
            "metadata": {}
        },
        {
            "cell_type": "code",
            "execution_count": 310,
            "source": [
                "evaluate_preds(check_test[\"y_test\"], check_test[\"y_pred\"])"
            ],
            "outputs": [
                {
                    "output_type": "stream",
                    "name": "stdout",
                    "text": [
                        "R2:\t0.875\n",
                        "MAE:\t2.084\n",
                        "MSE:\t9.339\n"
                    ]
                }
            ],
            "metadata": {}
        },
        {
            "cell_type": "markdown",
            "source": [
                "## Выводы\r\n",
                "Исходя из полученных метрик R2, MAE и MSE мы можем сказать, что модель Случайного леса точнее по сравнению с Линейной регрессией."
            ],
            "metadata": {}
        },
        {
            "cell_type": "markdown",
            "source": [
                "## Задание 3"
            ],
            "metadata": {}
        },
        {
            "cell_type": "markdown",
            "source": [
                "Выведем информацию по показателям важности"
            ],
            "metadata": {}
        },
        {
            "cell_type": "code",
            "execution_count": 311,
            "source": [
                "feature_imp = pd.Series(forest_model.feature_importances_, index=feature_names).sort_values(ascending=False)\r\n",
                "feature_imp"
            ],
            "outputs": [
                {
                    "output_type": "execute_result",
                    "data": {
                        "text/plain": [
                            "LSTAT      0.415847\n",
                            "RM         0.402682\n",
                            "DIS        0.063973\n",
                            "CRIM       0.031676\n",
                            "PTRATIO    0.018081\n",
                            "AGE        0.014299\n",
                            "NOX        0.014269\n",
                            "B          0.012451\n",
                            "TAX        0.011525\n",
                            "INDUS      0.007138\n",
                            "RAD        0.005281\n",
                            "ZN         0.001543\n",
                            "CHAS       0.001236\n",
                            "dtype: float64"
                        ]
                    },
                    "metadata": {},
                    "execution_count": 311
                }
            ],
            "metadata": {}
        },
        {
            "cell_type": "markdown",
            "source": [
                "Построим график по показателям важности"
            ],
            "metadata": {}
        },
        {
            "cell_type": "code",
            "execution_count": 312,
            "source": [
                "sns.barplot(x=feature_imp, y=feature_imp.index)\r\n",
                "\r\n",
                "plt.xlabel('Важность признаков')\r\n",
                "plt.ylabel('Признаки')\r\n",
                "plt.title('Визуализация важных признаков')\r\n",
                "plt.show()"
            ],
            "outputs": [
                {
                    "output_type": "display_data",
                    "data": {
                        "text/plain": [
                            "<Figure size 432x288 with 1 Axes>"
                        ],
                        "image/svg+xml": "<?xml version=\"1.0\" encoding=\"utf-8\" standalone=\"no\"?>\r\n<!DOCTYPE svg PUBLIC \"-//W3C//DTD SVG 1.1//EN\"\r\n  \"http://www.w3.org/Graphics/SVG/1.1/DTD/svg11.dtd\">\r\n<svg height=\"277.314375pt\" version=\"1.1\" viewBox=\"0 0 411.559375 277.314375\" width=\"411.559375pt\" xmlns=\"http://www.w3.org/2000/svg\" xmlns:xlink=\"http://www.w3.org/1999/xlink\">\r\n <metadata>\r\n  <rdf:RDF xmlns:cc=\"http://creativecommons.org/ns#\" xmlns:dc=\"http://purl.org/dc/elements/1.1/\" xmlns:rdf=\"http://www.w3.org/1999/02/22-rdf-syntax-ns#\">\r\n   <cc:Work>\r\n    <dc:type rdf:resource=\"http://purl.org/dc/dcmitype/StillImage\"/>\r\n    <dc:date>2021-08-24T16:01:05.205560</dc:date>\r\n    <dc:format>image/svg+xml</dc:format>\r\n    <dc:creator>\r\n     <cc:Agent>\r\n      <dc:title>Matplotlib v3.4.3, https://matplotlib.org/</dc:title>\r\n     </cc:Agent>\r\n    </dc:creator>\r\n   </cc:Work>\r\n  </rdf:RDF>\r\n </metadata>\r\n <defs>\r\n  <style type=\"text/css\">*{stroke-linecap:butt;stroke-linejoin:round;}</style>\r\n </defs>\r\n <g id=\"figure_1\">\r\n  <g id=\"patch_1\">\r\n   <path d=\"M 0 277.314375 \r\nL 411.559375 277.314375 \r\nL 411.559375 0 \r\nL 0 0 \r\nz\r\n\" style=\"fill:none;\"/>\r\n  </g>\r\n  <g id=\"axes_1\">\r\n   <g id=\"patch_2\">\r\n    <path d=\"M 69.559375 239.758125 \r\nL 404.359375 239.758125 \r\nL 404.359375 22.318125 \r\nL 69.559375 22.318125 \r\nz\r\n\" style=\"fill:#ffffff;\"/>\r\n   </g>\r\n   <g id=\"patch_3\">\r\n    <path clip-path=\"url(#p3562c99b14)\" d=\"M 69.559375 23.99074 \r\nL 388.416518 23.99074 \r\nL 388.416518 37.371663 \r\nL 69.559375 37.371663 \r\nz\r\n\" style=\"fill:#ea96a3;\"/>\r\n   </g>\r\n   <g id=\"patch_4\">\r\n    <path clip-path=\"url(#p3562c99b14)\" d=\"M 69.559375 40.716894 \r\nL 378.321649 40.716894 \r\nL 378.321649 54.097817 \r\nL 69.559375 54.097817 \r\nz\r\n\" style=\"fill:#e39361;\"/>\r\n   </g>\r\n   <g id=\"patch_5\">\r\n    <path clip-path=\"url(#p3562c99b14)\" d=\"M 69.559375 57.443048 \r\nL 118.611295 57.443048 \r\nL 118.611295 70.823971 \r\nL 69.559375 70.823971 \r\nz\r\n\" style=\"fill:#be9b4a;\"/>\r\n   </g>\r\n   <g id=\"patch_6\">\r\n    <path clip-path=\"url(#p3562c99b14)\" d=\"M 69.559375 74.169202 \r\nL 93.847222 74.169202 \r\nL 93.847222 87.550125 \r\nL 69.559375 87.550125 \r\nz\r\n\" style=\"fill:#9fa045;\"/>\r\n   </g>\r\n   <g id=\"patch_7\">\r\n    <path clip-path=\"url(#p3562c99b14)\" d=\"M 69.559375 90.895356 \r\nL 83.42331 90.895356 \r\nL 83.42331 104.276279 \r\nL 69.559375 104.276279 \r\nz\r\n\" style=\"fill:#7aaa47;\"/>\r\n   </g>\r\n   <g id=\"patch_8\">\r\n    <path clip-path=\"url(#p3562c99b14)\" d=\"M 69.559375 107.62151 \r\nL 80.523075 107.62151 \r\nL 80.523075 121.002433 \r\nL 69.559375 121.002433 \r\nz\r\n\" style=\"fill:#49af79;\"/>\r\n   </g>\r\n   <g id=\"patch_9\">\r\n    <path clip-path=\"url(#p3562c99b14)\" d=\"M 69.559375 124.347663 \r\nL 80.500321 124.347663 \r\nL 80.500321 137.728587 \r\nL 69.559375 137.728587 \r\nz\r\n\" style=\"fill:#4aac9a;\"/>\r\n   </g>\r\n   <g id=\"patch_10\">\r\n    <path clip-path=\"url(#p3562c99b14)\" d=\"M 69.559375 141.073817 \r\nL 79.106253 141.073817 \r\nL 79.106253 154.45474 \r\nL 69.559375 154.45474 \r\nz\r\n\" style=\"fill:#4cabae;\"/>\r\n   </g>\r\n   <g id=\"patch_11\">\r\n    <path clip-path=\"url(#p3562c99b14)\" d=\"M 69.559375 157.799971 \r\nL 78.396291 157.799971 \r\nL 78.396291 171.180894 \r\nL 69.559375 171.180894 \r\nz\r\n\" style=\"fill:#52acc9;\"/>\r\n   </g>\r\n   <g id=\"patch_12\">\r\n    <path clip-path=\"url(#p3562c99b14)\" d=\"M 69.559375 174.526125 \r\nL 75.032644 174.526125 \r\nL 75.032644 187.907048 \r\nL 69.559375 187.907048 \r\nz\r\n\" style=\"fill:#8daee7;\"/>\r\n   </g>\r\n   <g id=\"patch_13\">\r\n    <path clip-path=\"url(#p3562c99b14)\" d=\"M 69.559375 191.252279 \r\nL 73.608828 191.252279 \r\nL 73.608828 204.633202 \r\nL 69.559375 204.633202 \r\nz\r\n\" style=\"fill:#bfa3ea;\"/>\r\n   </g>\r\n   <g id=\"patch_14\">\r\n    <path clip-path=\"url(#p3562c99b14)\" d=\"M 69.559375 207.978433 \r\nL 70.742123 207.978433 \r\nL 70.742123 221.359356 \r\nL 69.559375 221.359356 \r\nz\r\n\" style=\"fill:#e689e6;\"/>\r\n   </g>\r\n   <g id=\"patch_15\">\r\n    <path clip-path=\"url(#p3562c99b14)\" d=\"M 69.559375 224.704587 \r\nL 70.507284 224.704587 \r\nL 70.507284 238.08551 \r\nL 69.559375 238.08551 \r\nz\r\n\" style=\"fill:#e891c3;\"/>\r\n   </g>\r\n   <g id=\"matplotlib.axis_1\">\r\n    <g id=\"xtick_1\">\r\n     <g id=\"line2d_1\">\r\n      <defs>\r\n       <path d=\"M 0 0 \r\nL 0 3.5 \r\n\" id=\"m74cbdb8817\" style=\"stroke:#000000;stroke-width:0.8;\"/>\r\n      </defs>\r\n      <g>\r\n       <use style=\"stroke:#000000;stroke-width:0.8;\" x=\"69.559375\" xlink:href=\"#m74cbdb8817\" y=\"239.758125\"/>\r\n      </g>\r\n     </g>\r\n     <g id=\"text_1\">\r\n      <!-- 0.00 -->\r\n      <g transform=\"translate(58.426563 254.356562)scale(0.1 -0.1)\">\r\n       <defs>\r\n        <path d=\"M 2034 4250 \r\nQ 1547 4250 1301 3770 \r\nQ 1056 3291 1056 2328 \r\nQ 1056 1369 1301 889 \r\nQ 1547 409 2034 409 \r\nQ 2525 409 2770 889 \r\nQ 3016 1369 3016 2328 \r\nQ 3016 3291 2770 3770 \r\nQ 2525 4250 2034 4250 \r\nz\r\nM 2034 4750 \r\nQ 2819 4750 3233 4129 \r\nQ 3647 3509 3647 2328 \r\nQ 3647 1150 3233 529 \r\nQ 2819 -91 2034 -91 \r\nQ 1250 -91 836 529 \r\nQ 422 1150 422 2328 \r\nQ 422 3509 836 4129 \r\nQ 1250 4750 2034 4750 \r\nz\r\n\" id=\"DejaVuSans-30\" transform=\"scale(0.015625)\"/>\r\n        <path d=\"M 684 794 \r\nL 1344 794 \r\nL 1344 0 \r\nL 684 0 \r\nL 684 794 \r\nz\r\n\" id=\"DejaVuSans-2e\" transform=\"scale(0.015625)\"/>\r\n       </defs>\r\n       <use xlink:href=\"#DejaVuSans-30\"/>\r\n       <use x=\"63.623047\" xlink:href=\"#DejaVuSans-2e\"/>\r\n       <use x=\"95.410156\" xlink:href=\"#DejaVuSans-30\"/>\r\n       <use x=\"159.033203\" xlink:href=\"#DejaVuSans-30\"/>\r\n      </g>\r\n     </g>\r\n    </g>\r\n    <g id=\"xtick_2\">\r\n     <g id=\"line2d_2\">\r\n      <g>\r\n       <use style=\"stroke:#000000;stroke-width:0.8;\" x=\"107.897622\" xlink:href=\"#m74cbdb8817\" y=\"239.758125\"/>\r\n      </g>\r\n     </g>\r\n     <g id=\"text_2\">\r\n      <!-- 0.05 -->\r\n      <g transform=\"translate(96.764809 254.356562)scale(0.1 -0.1)\">\r\n       <defs>\r\n        <path d=\"M 691 4666 \r\nL 3169 4666 \r\nL 3169 4134 \r\nL 1269 4134 \r\nL 1269 2991 \r\nQ 1406 3038 1543 3061 \r\nQ 1681 3084 1819 3084 \r\nQ 2600 3084 3056 2656 \r\nQ 3513 2228 3513 1497 \r\nQ 3513 744 3044 326 \r\nQ 2575 -91 1722 -91 \r\nQ 1428 -91 1123 -41 \r\nQ 819 9 494 109 \r\nL 494 744 \r\nQ 775 591 1075 516 \r\nQ 1375 441 1709 441 \r\nQ 2250 441 2565 725 \r\nQ 2881 1009 2881 1497 \r\nQ 2881 1984 2565 2268 \r\nQ 2250 2553 1709 2553 \r\nQ 1456 2553 1204 2497 \r\nQ 953 2441 691 2322 \r\nL 691 4666 \r\nz\r\n\" id=\"DejaVuSans-35\" transform=\"scale(0.015625)\"/>\r\n       </defs>\r\n       <use xlink:href=\"#DejaVuSans-30\"/>\r\n       <use x=\"63.623047\" xlink:href=\"#DejaVuSans-2e\"/>\r\n       <use x=\"95.410156\" xlink:href=\"#DejaVuSans-30\"/>\r\n       <use x=\"159.033203\" xlink:href=\"#DejaVuSans-35\"/>\r\n      </g>\r\n     </g>\r\n    </g>\r\n    <g id=\"xtick_3\">\r\n     <g id=\"line2d_3\">\r\n      <g>\r\n       <use style=\"stroke:#000000;stroke-width:0.8;\" x=\"146.235869\" xlink:href=\"#m74cbdb8817\" y=\"239.758125\"/>\r\n      </g>\r\n     </g>\r\n     <g id=\"text_3\">\r\n      <!-- 0.10 -->\r\n      <g transform=\"translate(135.103056 254.356562)scale(0.1 -0.1)\">\r\n       <defs>\r\n        <path d=\"M 794 531 \r\nL 1825 531 \r\nL 1825 4091 \r\nL 703 3866 \r\nL 703 4441 \r\nL 1819 4666 \r\nL 2450 4666 \r\nL 2450 531 \r\nL 3481 531 \r\nL 3481 0 \r\nL 794 0 \r\nL 794 531 \r\nz\r\n\" id=\"DejaVuSans-31\" transform=\"scale(0.015625)\"/>\r\n       </defs>\r\n       <use xlink:href=\"#DejaVuSans-30\"/>\r\n       <use x=\"63.623047\" xlink:href=\"#DejaVuSans-2e\"/>\r\n       <use x=\"95.410156\" xlink:href=\"#DejaVuSans-31\"/>\r\n       <use x=\"159.033203\" xlink:href=\"#DejaVuSans-30\"/>\r\n      </g>\r\n     </g>\r\n    </g>\r\n    <g id=\"xtick_4\">\r\n     <g id=\"line2d_4\">\r\n      <g>\r\n       <use style=\"stroke:#000000;stroke-width:0.8;\" x=\"184.574116\" xlink:href=\"#m74cbdb8817\" y=\"239.758125\"/>\r\n      </g>\r\n     </g>\r\n     <g id=\"text_4\">\r\n      <!-- 0.15 -->\r\n      <g transform=\"translate(173.441303 254.356562)scale(0.1 -0.1)\">\r\n       <use xlink:href=\"#DejaVuSans-30\"/>\r\n       <use x=\"63.623047\" xlink:href=\"#DejaVuSans-2e\"/>\r\n       <use x=\"95.410156\" xlink:href=\"#DejaVuSans-31\"/>\r\n       <use x=\"159.033203\" xlink:href=\"#DejaVuSans-35\"/>\r\n      </g>\r\n     </g>\r\n    </g>\r\n    <g id=\"xtick_5\">\r\n     <g id=\"line2d_5\">\r\n      <g>\r\n       <use style=\"stroke:#000000;stroke-width:0.8;\" x=\"222.912362\" xlink:href=\"#m74cbdb8817\" y=\"239.758125\"/>\r\n      </g>\r\n     </g>\r\n     <g id=\"text_5\">\r\n      <!-- 0.20 -->\r\n      <g transform=\"translate(211.77955 254.356562)scale(0.1 -0.1)\">\r\n       <defs>\r\n        <path d=\"M 1228 531 \r\nL 3431 531 \r\nL 3431 0 \r\nL 469 0 \r\nL 469 531 \r\nQ 828 903 1448 1529 \r\nQ 2069 2156 2228 2338 \r\nQ 2531 2678 2651 2914 \r\nQ 2772 3150 2772 3378 \r\nQ 2772 3750 2511 3984 \r\nQ 2250 4219 1831 4219 \r\nQ 1534 4219 1204 4116 \r\nQ 875 4013 500 3803 \r\nL 500 4441 \r\nQ 881 4594 1212 4672 \r\nQ 1544 4750 1819 4750 \r\nQ 2544 4750 2975 4387 \r\nQ 3406 4025 3406 3419 \r\nQ 3406 3131 3298 2873 \r\nQ 3191 2616 2906 2266 \r\nQ 2828 2175 2409 1742 \r\nQ 1991 1309 1228 531 \r\nz\r\n\" id=\"DejaVuSans-32\" transform=\"scale(0.015625)\"/>\r\n       </defs>\r\n       <use xlink:href=\"#DejaVuSans-30\"/>\r\n       <use x=\"63.623047\" xlink:href=\"#DejaVuSans-2e\"/>\r\n       <use x=\"95.410156\" xlink:href=\"#DejaVuSans-32\"/>\r\n       <use x=\"159.033203\" xlink:href=\"#DejaVuSans-30\"/>\r\n      </g>\r\n     </g>\r\n    </g>\r\n    <g id=\"xtick_6\">\r\n     <g id=\"line2d_6\">\r\n      <g>\r\n       <use style=\"stroke:#000000;stroke-width:0.8;\" x=\"261.250609\" xlink:href=\"#m74cbdb8817\" y=\"239.758125\"/>\r\n      </g>\r\n     </g>\r\n     <g id=\"text_6\">\r\n      <!-- 0.25 -->\r\n      <g transform=\"translate(250.117797 254.356562)scale(0.1 -0.1)\">\r\n       <use xlink:href=\"#DejaVuSans-30\"/>\r\n       <use x=\"63.623047\" xlink:href=\"#DejaVuSans-2e\"/>\r\n       <use x=\"95.410156\" xlink:href=\"#DejaVuSans-32\"/>\r\n       <use x=\"159.033203\" xlink:href=\"#DejaVuSans-35\"/>\r\n      </g>\r\n     </g>\r\n    </g>\r\n    <g id=\"xtick_7\">\r\n     <g id=\"line2d_7\">\r\n      <g>\r\n       <use style=\"stroke:#000000;stroke-width:0.8;\" x=\"299.588856\" xlink:href=\"#m74cbdb8817\" y=\"239.758125\"/>\r\n      </g>\r\n     </g>\r\n     <g id=\"text_7\">\r\n      <!-- 0.30 -->\r\n      <g transform=\"translate(288.456044 254.356562)scale(0.1 -0.1)\">\r\n       <defs>\r\n        <path d=\"M 2597 2516 \r\nQ 3050 2419 3304 2112 \r\nQ 3559 1806 3559 1356 \r\nQ 3559 666 3084 287 \r\nQ 2609 -91 1734 -91 \r\nQ 1441 -91 1130 -33 \r\nQ 819 25 488 141 \r\nL 488 750 \r\nQ 750 597 1062 519 \r\nQ 1375 441 1716 441 \r\nQ 2309 441 2620 675 \r\nQ 2931 909 2931 1356 \r\nQ 2931 1769 2642 2001 \r\nQ 2353 2234 1838 2234 \r\nL 1294 2234 \r\nL 1294 2753 \r\nL 1863 2753 \r\nQ 2328 2753 2575 2939 \r\nQ 2822 3125 2822 3475 \r\nQ 2822 3834 2567 4026 \r\nQ 2313 4219 1838 4219 \r\nQ 1578 4219 1281 4162 \r\nQ 984 4106 628 3988 \r\nL 628 4550 \r\nQ 988 4650 1302 4700 \r\nQ 1616 4750 1894 4750 \r\nQ 2613 4750 3031 4423 \r\nQ 3450 4097 3450 3541 \r\nQ 3450 3153 3228 2886 \r\nQ 3006 2619 2597 2516 \r\nz\r\n\" id=\"DejaVuSans-33\" transform=\"scale(0.015625)\"/>\r\n       </defs>\r\n       <use xlink:href=\"#DejaVuSans-30\"/>\r\n       <use x=\"63.623047\" xlink:href=\"#DejaVuSans-2e\"/>\r\n       <use x=\"95.410156\" xlink:href=\"#DejaVuSans-33\"/>\r\n       <use x=\"159.033203\" xlink:href=\"#DejaVuSans-30\"/>\r\n      </g>\r\n     </g>\r\n    </g>\r\n    <g id=\"xtick_8\">\r\n     <g id=\"line2d_8\">\r\n      <g>\r\n       <use style=\"stroke:#000000;stroke-width:0.8;\" x=\"337.927103\" xlink:href=\"#m74cbdb8817\" y=\"239.758125\"/>\r\n      </g>\r\n     </g>\r\n     <g id=\"text_8\">\r\n      <!-- 0.35 -->\r\n      <g transform=\"translate(326.794291 254.356562)scale(0.1 -0.1)\">\r\n       <use xlink:href=\"#DejaVuSans-30\"/>\r\n       <use x=\"63.623047\" xlink:href=\"#DejaVuSans-2e\"/>\r\n       <use x=\"95.410156\" xlink:href=\"#DejaVuSans-33\"/>\r\n       <use x=\"159.033203\" xlink:href=\"#DejaVuSans-35\"/>\r\n      </g>\r\n     </g>\r\n    </g>\r\n    <g id=\"xtick_9\">\r\n     <g id=\"line2d_9\">\r\n      <g>\r\n       <use style=\"stroke:#000000;stroke-width:0.8;\" x=\"376.26535\" xlink:href=\"#m74cbdb8817\" y=\"239.758125\"/>\r\n      </g>\r\n     </g>\r\n     <g id=\"text_9\">\r\n      <!-- 0.40 -->\r\n      <g transform=\"translate(365.132537 254.356562)scale(0.1 -0.1)\">\r\n       <defs>\r\n        <path d=\"M 2419 4116 \r\nL 825 1625 \r\nL 2419 1625 \r\nL 2419 4116 \r\nz\r\nM 2253 4666 \r\nL 3047 4666 \r\nL 3047 1625 \r\nL 3713 1625 \r\nL 3713 1100 \r\nL 3047 1100 \r\nL 3047 0 \r\nL 2419 0 \r\nL 2419 1100 \r\nL 313 1100 \r\nL 313 1709 \r\nL 2253 4666 \r\nz\r\n\" id=\"DejaVuSans-34\" transform=\"scale(0.015625)\"/>\r\n       </defs>\r\n       <use xlink:href=\"#DejaVuSans-30\"/>\r\n       <use x=\"63.623047\" xlink:href=\"#DejaVuSans-2e\"/>\r\n       <use x=\"95.410156\" xlink:href=\"#DejaVuSans-34\"/>\r\n       <use x=\"159.033203\" xlink:href=\"#DejaVuSans-30\"/>\r\n      </g>\r\n     </g>\r\n    </g>\r\n    <g id=\"text_10\">\r\n     <!-- Важность признаков -->\r\n     <g transform=\"translate(181.724219 268.034687)scale(0.1 -0.1)\">\r\n      <defs>\r\n       <path d=\"M 1259 2228 \r\nL 1259 519 \r\nL 2272 519 \r\nQ 2781 519 3026 730 \r\nQ 3272 941 3272 1375 \r\nQ 3272 1813 3026 2020 \r\nQ 2781 2228 2272 2228 \r\nL 1259 2228 \r\nz\r\nM 1259 4147 \r\nL 1259 2741 \r\nL 2194 2741 \r\nQ 2656 2741 2882 2914 \r\nQ 3109 3088 3109 3444 \r\nQ 3109 3797 2882 3972 \r\nQ 2656 4147 2194 4147 \r\nL 1259 4147 \r\nz\r\nM 628 4666 \r\nL 2241 4666 \r\nQ 2963 4666 3353 4366 \r\nQ 3744 4066 3744 3513 \r\nQ 3744 3084 3544 2831 \r\nQ 3344 2578 2956 2516 \r\nQ 3422 2416 3680 2098 \r\nQ 3938 1781 3938 1306 \r\nQ 3938 681 3513 340 \r\nQ 3088 0 2303 0 \r\nL 628 0 \r\nL 628 4666 \r\nz\r\n\" id=\"DejaVuSans-412\" transform=\"scale(0.015625)\"/>\r\n       <path d=\"M 2194 1759 \r\nQ 1497 1759 1228 1600 \r\nQ 959 1441 959 1056 \r\nQ 959 750 1161 570 \r\nQ 1363 391 1709 391 \r\nQ 2188 391 2477 730 \r\nQ 2766 1069 2766 1631 \r\nL 2766 1759 \r\nL 2194 1759 \r\nz\r\nM 3341 1997 \r\nL 3341 0 \r\nL 2766 0 \r\nL 2766 531 \r\nQ 2569 213 2275 61 \r\nQ 1981 -91 1556 -91 \r\nQ 1019 -91 701 211 \r\nQ 384 513 384 1019 \r\nQ 384 1609 779 1909 \r\nQ 1175 2209 1959 2209 \r\nL 2766 2209 \r\nL 2766 2266 \r\nQ 2766 2663 2505 2880 \r\nQ 2244 3097 1772 3097 \r\nQ 1472 3097 1187 3025 \r\nQ 903 2953 641 2809 \r\nL 641 3341 \r\nQ 956 3463 1253 3523 \r\nQ 1550 3584 1831 3584 \r\nQ 2591 3584 2966 3190 \r\nQ 3341 2797 3341 1997 \r\nz\r\n\" id=\"DejaVuSans-430\" transform=\"scale(0.015625)\"/>\r\n       <path d=\"M 2597 3500 \r\nL 3169 3500 \r\nL 3169 1856 \r\nL 4697 3500 \r\nL 5366 3500 \r\nL 4109 2153 \r\nL 5547 0 \r\nL 4931 0 \r\nL 3753 1769 \r\nL 3169 1141 \r\nL 3169 0 \r\nL 2597 0 \r\nL 2597 1141 \r\nL 2013 1769 \r\nL 834 0 \r\nL 219 0 \r\nL 1656 2153 \r\nL 400 3500 \r\nL 1069 3500 \r\nL 2597 1856 \r\nL 2597 3500 \r\nz\r\n\" id=\"DejaVuSans-436\" transform=\"scale(0.015625)\"/>\r\n       <path d=\"M 581 3500 \r\nL 1159 3500 \r\nL 1159 2072 \r\nL 3025 2072 \r\nL 3025 3500 \r\nL 3603 3500 \r\nL 3603 0 \r\nL 3025 0 \r\nL 3025 1613 \r\nL 1159 1613 \r\nL 1159 0 \r\nL 581 0 \r\nL 581 3500 \r\nz\r\n\" id=\"DejaVuSans-43d\" transform=\"scale(0.015625)\"/>\r\n       <path d=\"M 1959 3097 \r\nQ 1497 3097 1228 2736 \r\nQ 959 2375 959 1747 \r\nQ 959 1119 1226 758 \r\nQ 1494 397 1959 397 \r\nQ 2419 397 2687 759 \r\nQ 2956 1122 2956 1747 \r\nQ 2956 2369 2687 2733 \r\nQ 2419 3097 1959 3097 \r\nz\r\nM 1959 3584 \r\nQ 2709 3584 3137 3096 \r\nQ 3566 2609 3566 1747 \r\nQ 3566 888 3137 398 \r\nQ 2709 -91 1959 -91 \r\nQ 1206 -91 779 398 \r\nQ 353 888 353 1747 \r\nQ 353 2609 779 3096 \r\nQ 1206 3584 1959 3584 \r\nz\r\n\" id=\"DejaVuSans-43e\" transform=\"scale(0.015625)\"/>\r\n       <path d=\"M 3122 3366 \r\nL 3122 2828 \r\nQ 2878 2963 2633 3030 \r\nQ 2388 3097 2138 3097 \r\nQ 1578 3097 1268 2742 \r\nQ 959 2388 959 1747 \r\nQ 959 1106 1268 751 \r\nQ 1578 397 2138 397 \r\nQ 2388 397 2633 464 \r\nQ 2878 531 3122 666 \r\nL 3122 134 \r\nQ 2881 22 2623 -34 \r\nQ 2366 -91 2075 -91 \r\nQ 1284 -91 818 406 \r\nQ 353 903 353 1747 \r\nQ 353 2603 823 3093 \r\nQ 1294 3584 2113 3584 \r\nQ 2378 3584 2631 3529 \r\nQ 2884 3475 3122 3366 \r\nz\r\n\" id=\"DejaVuSans-441\" transform=\"scale(0.015625)\"/>\r\n       <path d=\"M 188 3500 \r\nL 3541 3500 \r\nL 3541 3041 \r\nL 2147 3041 \r\nL 2147 0 \r\nL 1581 0 \r\nL 1581 3041 \r\nL 188 3041 \r\nL 188 3500 \r\nz\r\n\" id=\"DejaVuSans-442\" transform=\"scale(0.015625)\"/>\r\n       <path d=\"M 2781 1038 \r\nQ 2781 1319 2576 1466 \r\nQ 2372 1613 1978 1613 \r\nL 1159 1613 \r\nL 1159 459 \r\nL 1978 459 \r\nQ 2372 459 2576 607 \r\nQ 2781 756 2781 1038 \r\nz\r\nM 581 3500 \r\nL 1159 3500 \r\nL 1159 2072 \r\nL 2003 2072 \r\nQ 2672 2072 3033 1817 \r\nQ 3394 1563 3394 1038 \r\nQ 3394 513 3033 256 \r\nQ 2672 0 2003 0 \r\nL 581 0 \r\nL 581 3500 \r\nz\r\n\" id=\"DejaVuSans-44c\" transform=\"scale(0.015625)\"/>\r\n       <path id=\"DejaVuSans-20\" transform=\"scale(0.015625)\"/>\r\n       <path d=\"M 3603 3500 \r\nL 3603 0 \r\nL 3025 0 \r\nL 3025 3041 \r\nL 1159 3041 \r\nL 1159 0 \r\nL 581 0 \r\nL 581 3500 \r\nL 3603 3500 \r\nz\r\n\" id=\"DejaVuSans-43f\" transform=\"scale(0.015625)\"/>\r\n       <path d=\"M 1159 525 \r\nL 1159 -1331 \r\nL 581 -1331 \r\nL 581 3500 \r\nL 1159 3500 \r\nL 1159 2969 \r\nQ 1341 3281 1617 3432 \r\nQ 1894 3584 2278 3584 \r\nQ 2916 3584 3314 3078 \r\nQ 3713 2572 3713 1747 \r\nQ 3713 922 3314 415 \r\nQ 2916 -91 2278 -91 \r\nQ 1894 -91 1617 61 \r\nQ 1341 213 1159 525 \r\nz\r\nM 3116 1747 \r\nQ 3116 2381 2855 2742 \r\nQ 2594 3103 2138 3103 \r\nQ 1681 3103 1420 2742 \r\nQ 1159 2381 1159 1747 \r\nQ 1159 1113 1420 752 \r\nQ 1681 391 2138 391 \r\nQ 2594 391 2855 752 \r\nQ 3116 1113 3116 1747 \r\nz\r\n\" id=\"DejaVuSans-440\" transform=\"scale(0.015625)\"/>\r\n       <path d=\"M 3578 3500 \r\nL 3578 0 \r\nL 3006 0 \r\nL 3006 2809 \r\nL 1319 0 \r\nL 581 0 \r\nL 581 3500 \r\nL 1153 3500 \r\nL 1153 697 \r\nL 2838 3500 \r\nL 3578 3500 \r\nz\r\n\" id=\"DejaVuSans-438\" transform=\"scale(0.015625)\"/>\r\n       <path d=\"M 2206 1888 \r\nQ 2594 1813 2809 1584 \r\nQ 3025 1356 3025 1019 \r\nQ 3025 478 2622 193 \r\nQ 2219 -91 1475 -91 \r\nQ 1225 -91 961 -47 \r\nQ 697 -3 416 84 \r\nL 416 619 \r\nQ 638 503 903 445 \r\nQ 1169 388 1459 388 \r\nQ 1931 388 2195 563 \r\nQ 2459 738 2459 1019 \r\nQ 2459 1294 2225 1461 \r\nQ 1991 1628 1563 1628 \r\nL 1100 1628 \r\nL 1100 2103 \r\nL 1584 2103 \r\nQ 1947 2103 2158 2242 \r\nQ 2369 2381 2369 2600 \r\nQ 2369 2800 2151 2944 \r\nQ 1934 3088 1563 3088 \r\nQ 1341 3088 1089 3047 \r\nQ 838 3006 534 2916 \r\nL 534 3438 \r\nQ 841 3513 1106 3550 \r\nQ 1372 3588 1609 3588 \r\nQ 2222 3588 2576 3342 \r\nQ 2931 3097 2931 2656 \r\nQ 2931 2366 2743 2164 \r\nQ 2556 1963 2206 1888 \r\nz\r\n\" id=\"DejaVuSans-437\" transform=\"scale(0.015625)\"/>\r\n       <path d=\"M 581 3500 \r\nL 1153 3500 \r\nL 1153 1856 \r\nL 2775 3500 \r\nL 3481 3500 \r\nL 2144 2147 \r\nL 3653 0 \r\nL 3009 0 \r\nL 1769 1766 \r\nL 1153 1141 \r\nL 1153 0 \r\nL 581 0 \r\nL 581 3500 \r\nz\r\n\" id=\"DejaVuSans-43a\" transform=\"scale(0.015625)\"/>\r\n       <path d=\"M 1156 1613 \r\nL 1156 459 \r\nL 1975 459 \r\nQ 2369 459 2575 607 \r\nQ 2781 756 2781 1038 \r\nQ 2781 1319 2575 1466 \r\nQ 2369 1613 1975 1613 \r\nL 1156 1613 \r\nz\r\nM 1156 3041 \r\nL 1156 2072 \r\nL 1913 2072 \r\nQ 2238 2072 2444 2201 \r\nQ 2650 2331 2650 2563 \r\nQ 2650 2794 2444 2917 \r\nQ 2238 3041 1913 3041 \r\nL 1156 3041 \r\nz\r\nM 581 3500 \r\nL 1950 3500 \r\nQ 2566 3500 2897 3275 \r\nQ 3228 3050 3228 2634 \r\nQ 3228 2313 3059 2123 \r\nQ 2891 1934 2559 1888 \r\nQ 2956 1813 3175 1575 \r\nQ 3394 1338 3394 981 \r\nQ 3394 513 3033 256 \r\nQ 2672 0 2003 0 \r\nL 581 0 \r\nL 581 3500 \r\nz\r\n\" id=\"DejaVuSans-432\" transform=\"scale(0.015625)\"/>\r\n      </defs>\r\n      <use xlink:href=\"#DejaVuSans-412\"/>\r\n      <use x=\"68.603516\" xlink:href=\"#DejaVuSans-430\"/>\r\n      <use x=\"129.882812\" xlink:href=\"#DejaVuSans-436\"/>\r\n      <use x=\"219.970703\" xlink:href=\"#DejaVuSans-43d\"/>\r\n      <use x=\"285.351562\" xlink:href=\"#DejaVuSans-43e\"/>\r\n      <use x=\"346.533203\" xlink:href=\"#DejaVuSans-441\"/>\r\n      <use x=\"401.513672\" xlink:href=\"#DejaVuSans-442\"/>\r\n      <use x=\"459.765625\" xlink:href=\"#DejaVuSans-44c\"/>\r\n      <use x=\"518.701172\" xlink:href=\"#DejaVuSans-20\"/>\r\n      <use x=\"550.488281\" xlink:href=\"#DejaVuSans-43f\"/>\r\n      <use x=\"615.869141\" xlink:href=\"#DejaVuSans-440\"/>\r\n      <use x=\"679.345703\" xlink:href=\"#DejaVuSans-438\"/>\r\n      <use x=\"744.335938\" xlink:href=\"#DejaVuSans-437\"/>\r\n      <use x=\"797.509766\" xlink:href=\"#DejaVuSans-43d\"/>\r\n      <use x=\"862.890625\" xlink:href=\"#DejaVuSans-430\"/>\r\n      <use x=\"924.169922\" xlink:href=\"#DejaVuSans-43a\"/>\r\n      <use x=\"984.570312\" xlink:href=\"#DejaVuSans-43e\"/>\r\n      <use x=\"1045.751953\" xlink:href=\"#DejaVuSans-432\"/>\r\n     </g>\r\n    </g>\r\n   </g>\r\n   <g id=\"matplotlib.axis_2\">\r\n    <g id=\"ytick_1\">\r\n     <g id=\"line2d_10\">\r\n      <defs>\r\n       <path d=\"M 0 0 \r\nL -3.5 0 \r\n\" id=\"m5d1bbcc02c\" style=\"stroke:#000000;stroke-width:0.8;\"/>\r\n      </defs>\r\n      <g>\r\n       <use style=\"stroke:#000000;stroke-width:0.8;\" x=\"69.559375\" xlink:href=\"#m5d1bbcc02c\" y=\"30.681202\"/>\r\n      </g>\r\n     </g>\r\n     <g id=\"text_11\">\r\n      <!-- LSTAT -->\r\n      <g transform=\"translate(33.132812 34.480421)scale(0.1 -0.1)\">\r\n       <defs>\r\n        <path d=\"M 628 4666 \r\nL 1259 4666 \r\nL 1259 531 \r\nL 3531 531 \r\nL 3531 0 \r\nL 628 0 \r\nL 628 4666 \r\nz\r\n\" id=\"DejaVuSans-4c\" transform=\"scale(0.015625)\"/>\r\n        <path d=\"M 3425 4513 \r\nL 3425 3897 \r\nQ 3066 4069 2747 4153 \r\nQ 2428 4238 2131 4238 \r\nQ 1616 4238 1336 4038 \r\nQ 1056 3838 1056 3469 \r\nQ 1056 3159 1242 3001 \r\nQ 1428 2844 1947 2747 \r\nL 2328 2669 \r\nQ 3034 2534 3370 2195 \r\nQ 3706 1856 3706 1288 \r\nQ 3706 609 3251 259 \r\nQ 2797 -91 1919 -91 \r\nQ 1588 -91 1214 -16 \r\nQ 841 59 441 206 \r\nL 441 856 \r\nQ 825 641 1194 531 \r\nQ 1563 422 1919 422 \r\nQ 2459 422 2753 634 \r\nQ 3047 847 3047 1241 \r\nQ 3047 1584 2836 1778 \r\nQ 2625 1972 2144 2069 \r\nL 1759 2144 \r\nQ 1053 2284 737 2584 \r\nQ 422 2884 422 3419 \r\nQ 422 4038 858 4394 \r\nQ 1294 4750 2059 4750 \r\nQ 2388 4750 2728 4690 \r\nQ 3069 4631 3425 4513 \r\nz\r\n\" id=\"DejaVuSans-53\" transform=\"scale(0.015625)\"/>\r\n        <path d=\"M -19 4666 \r\nL 3928 4666 \r\nL 3928 4134 \r\nL 2272 4134 \r\nL 2272 0 \r\nL 1638 0 \r\nL 1638 4134 \r\nL -19 4134 \r\nL -19 4666 \r\nz\r\n\" id=\"DejaVuSans-54\" transform=\"scale(0.015625)\"/>\r\n        <path d=\"M 2188 4044 \r\nL 1331 1722 \r\nL 3047 1722 \r\nL 2188 4044 \r\nz\r\nM 1831 4666 \r\nL 2547 4666 \r\nL 4325 0 \r\nL 3669 0 \r\nL 3244 1197 \r\nL 1141 1197 \r\nL 716 0 \r\nL 50 0 \r\nL 1831 4666 \r\nz\r\n\" id=\"DejaVuSans-41\" transform=\"scale(0.015625)\"/>\r\n       </defs>\r\n       <use xlink:href=\"#DejaVuSans-4c\"/>\r\n       <use x=\"55.712891\" xlink:href=\"#DejaVuSans-53\"/>\r\n       <use x=\"119.189453\" xlink:href=\"#DejaVuSans-54\"/>\r\n       <use x=\"172.523438\" xlink:href=\"#DejaVuSans-41\"/>\r\n       <use x=\"233.181641\" xlink:href=\"#DejaVuSans-54\"/>\r\n      </g>\r\n     </g>\r\n    </g>\r\n    <g id=\"ytick_2\">\r\n     <g id=\"line2d_11\">\r\n      <g>\r\n       <use style=\"stroke:#000000;stroke-width:0.8;\" x=\"69.559375\" xlink:href=\"#m5d1bbcc02c\" y=\"47.407356\"/>\r\n      </g>\r\n     </g>\r\n     <g id=\"text_12\">\r\n      <!-- RM -->\r\n      <g transform=\"translate(46.982813 51.206575)scale(0.1 -0.1)\">\r\n       <defs>\r\n        <path d=\"M 2841 2188 \r\nQ 3044 2119 3236 1894 \r\nQ 3428 1669 3622 1275 \r\nL 4263 0 \r\nL 3584 0 \r\nL 2988 1197 \r\nQ 2756 1666 2539 1819 \r\nQ 2322 1972 1947 1972 \r\nL 1259 1972 \r\nL 1259 0 \r\nL 628 0 \r\nL 628 4666 \r\nL 2053 4666 \r\nQ 2853 4666 3247 4331 \r\nQ 3641 3997 3641 3322 \r\nQ 3641 2881 3436 2590 \r\nQ 3231 2300 2841 2188 \r\nz\r\nM 1259 4147 \r\nL 1259 2491 \r\nL 2053 2491 \r\nQ 2509 2491 2742 2702 \r\nQ 2975 2913 2975 3322 \r\nQ 2975 3731 2742 3939 \r\nQ 2509 4147 2053 4147 \r\nL 1259 4147 \r\nz\r\n\" id=\"DejaVuSans-52\" transform=\"scale(0.015625)\"/>\r\n        <path d=\"M 628 4666 \r\nL 1569 4666 \r\nL 2759 1491 \r\nL 3956 4666 \r\nL 4897 4666 \r\nL 4897 0 \r\nL 4281 0 \r\nL 4281 4097 \r\nL 3078 897 \r\nL 2444 897 \r\nL 1241 4097 \r\nL 1241 0 \r\nL 628 0 \r\nL 628 4666 \r\nz\r\n\" id=\"DejaVuSans-4d\" transform=\"scale(0.015625)\"/>\r\n       </defs>\r\n       <use xlink:href=\"#DejaVuSans-52\"/>\r\n       <use x=\"69.482422\" xlink:href=\"#DejaVuSans-4d\"/>\r\n      </g>\r\n     </g>\r\n    </g>\r\n    <g id=\"ytick_3\">\r\n     <g id=\"line2d_12\">\r\n      <g>\r\n       <use style=\"stroke:#000000;stroke-width:0.8;\" x=\"69.559375\" xlink:href=\"#m5d1bbcc02c\" y=\"64.13351\"/>\r\n      </g>\r\n     </g>\r\n     <g id=\"text_13\">\r\n      <!-- DIS -->\r\n      <g transform=\"translate(45.560938 67.932728)scale(0.1 -0.1)\">\r\n       <defs>\r\n        <path d=\"M 1259 4147 \r\nL 1259 519 \r\nL 2022 519 \r\nQ 2988 519 3436 956 \r\nQ 3884 1394 3884 2338 \r\nQ 3884 3275 3436 3711 \r\nQ 2988 4147 2022 4147 \r\nL 1259 4147 \r\nz\r\nM 628 4666 \r\nL 1925 4666 \r\nQ 3281 4666 3915 4102 \r\nQ 4550 3538 4550 2338 \r\nQ 4550 1131 3912 565 \r\nQ 3275 0 1925 0 \r\nL 628 0 \r\nL 628 4666 \r\nz\r\n\" id=\"DejaVuSans-44\" transform=\"scale(0.015625)\"/>\r\n        <path d=\"M 628 4666 \r\nL 1259 4666 \r\nL 1259 0 \r\nL 628 0 \r\nL 628 4666 \r\nz\r\n\" id=\"DejaVuSans-49\" transform=\"scale(0.015625)\"/>\r\n       </defs>\r\n       <use xlink:href=\"#DejaVuSans-44\"/>\r\n       <use x=\"77.001953\" xlink:href=\"#DejaVuSans-49\"/>\r\n       <use x=\"106.494141\" xlink:href=\"#DejaVuSans-53\"/>\r\n      </g>\r\n     </g>\r\n    </g>\r\n    <g id=\"ytick_4\">\r\n     <g id=\"line2d_13\">\r\n      <g>\r\n       <use style=\"stroke:#000000;stroke-width:0.8;\" x=\"69.559375\" xlink:href=\"#m5d1bbcc02c\" y=\"80.859663\"/>\r\n      </g>\r\n     </g>\r\n     <g id=\"text_14\">\r\n      <!-- CRIM -->\r\n      <g transform=\"translate(37.05 84.658882)scale(0.1 -0.1)\">\r\n       <defs>\r\n        <path d=\"M 4122 4306 \r\nL 4122 3641 \r\nQ 3803 3938 3442 4084 \r\nQ 3081 4231 2675 4231 \r\nQ 1875 4231 1450 3742 \r\nQ 1025 3253 1025 2328 \r\nQ 1025 1406 1450 917 \r\nQ 1875 428 2675 428 \r\nQ 3081 428 3442 575 \r\nQ 3803 722 4122 1019 \r\nL 4122 359 \r\nQ 3791 134 3420 21 \r\nQ 3050 -91 2638 -91 \r\nQ 1578 -91 968 557 \r\nQ 359 1206 359 2328 \r\nQ 359 3453 968 4101 \r\nQ 1578 4750 2638 4750 \r\nQ 3056 4750 3426 4639 \r\nQ 3797 4528 4122 4306 \r\nz\r\n\" id=\"DejaVuSans-43\" transform=\"scale(0.015625)\"/>\r\n       </defs>\r\n       <use xlink:href=\"#DejaVuSans-43\"/>\r\n       <use x=\"69.824219\" xlink:href=\"#DejaVuSans-52\"/>\r\n       <use x=\"139.306641\" xlink:href=\"#DejaVuSans-49\"/>\r\n       <use x=\"168.798828\" xlink:href=\"#DejaVuSans-4d\"/>\r\n      </g>\r\n     </g>\r\n    </g>\r\n    <g id=\"ytick_5\">\r\n     <g id=\"line2d_14\">\r\n      <g>\r\n       <use style=\"stroke:#000000;stroke-width:0.8;\" x=\"69.559375\" xlink:href=\"#m5d1bbcc02c\" y=\"97.585817\"/>\r\n      </g>\r\n     </g>\r\n     <g id=\"text_15\">\r\n      <!-- PTRATIO -->\r\n      <g transform=\"translate(20.878125 101.385036)scale(0.1 -0.1)\">\r\n       <defs>\r\n        <path d=\"M 1259 4147 \r\nL 1259 2394 \r\nL 2053 2394 \r\nQ 2494 2394 2734 2622 \r\nQ 2975 2850 2975 3272 \r\nQ 2975 3691 2734 3919 \r\nQ 2494 4147 2053 4147 \r\nL 1259 4147 \r\nz\r\nM 628 4666 \r\nL 2053 4666 \r\nQ 2838 4666 3239 4311 \r\nQ 3641 3956 3641 3272 \r\nQ 3641 2581 3239 2228 \r\nQ 2838 1875 2053 1875 \r\nL 1259 1875 \r\nL 1259 0 \r\nL 628 0 \r\nL 628 4666 \r\nz\r\n\" id=\"DejaVuSans-50\" transform=\"scale(0.015625)\"/>\r\n        <path d=\"M 2522 4238 \r\nQ 1834 4238 1429 3725 \r\nQ 1025 3213 1025 2328 \r\nQ 1025 1447 1429 934 \r\nQ 1834 422 2522 422 \r\nQ 3209 422 3611 934 \r\nQ 4013 1447 4013 2328 \r\nQ 4013 3213 3611 3725 \r\nQ 3209 4238 2522 4238 \r\nz\r\nM 2522 4750 \r\nQ 3503 4750 4090 4092 \r\nQ 4678 3434 4678 2328 \r\nQ 4678 1225 4090 567 \r\nQ 3503 -91 2522 -91 \r\nQ 1538 -91 948 565 \r\nQ 359 1222 359 2328 \r\nQ 359 3434 948 4092 \r\nQ 1538 4750 2522 4750 \r\nz\r\n\" id=\"DejaVuSans-4f\" transform=\"scale(0.015625)\"/>\r\n       </defs>\r\n       <use xlink:href=\"#DejaVuSans-50\"/>\r\n       <use x=\"60.302734\" xlink:href=\"#DejaVuSans-54\"/>\r\n       <use x=\"121.386719\" xlink:href=\"#DejaVuSans-52\"/>\r\n       <use x=\"186.869141\" xlink:href=\"#DejaVuSans-41\"/>\r\n       <use x=\"247.527344\" xlink:href=\"#DejaVuSans-54\"/>\r\n       <use x=\"308.611328\" xlink:href=\"#DejaVuSans-49\"/>\r\n       <use x=\"338.103516\" xlink:href=\"#DejaVuSans-4f\"/>\r\n      </g>\r\n     </g>\r\n    </g>\r\n    <g id=\"ytick_6\">\r\n     <g id=\"line2d_15\">\r\n      <g>\r\n       <use style=\"stroke:#000000;stroke-width:0.8;\" x=\"69.559375\" xlink:href=\"#m5d1bbcc02c\" y=\"114.311971\"/>\r\n      </g>\r\n     </g>\r\n     <g id=\"text_16\">\r\n      <!-- AGE -->\r\n      <g transform=\"translate(41.826563 118.11119)scale(0.1 -0.1)\">\r\n       <defs>\r\n        <path d=\"M 3809 666 \r\nL 3809 1919 \r\nL 2778 1919 \r\nL 2778 2438 \r\nL 4434 2438 \r\nL 4434 434 \r\nQ 4069 175 3628 42 \r\nQ 3188 -91 2688 -91 \r\nQ 1594 -91 976 548 \r\nQ 359 1188 359 2328 \r\nQ 359 3472 976 4111 \r\nQ 1594 4750 2688 4750 \r\nQ 3144 4750 3555 4637 \r\nQ 3966 4525 4313 4306 \r\nL 4313 3634 \r\nQ 3963 3931 3569 4081 \r\nQ 3175 4231 2741 4231 \r\nQ 1884 4231 1454 3753 \r\nQ 1025 3275 1025 2328 \r\nQ 1025 1384 1454 906 \r\nQ 1884 428 2741 428 \r\nQ 3075 428 3337 486 \r\nQ 3600 544 3809 666 \r\nz\r\n\" id=\"DejaVuSans-47\" transform=\"scale(0.015625)\"/>\r\n        <path d=\"M 628 4666 \r\nL 3578 4666 \r\nL 3578 4134 \r\nL 1259 4134 \r\nL 1259 2753 \r\nL 3481 2753 \r\nL 3481 2222 \r\nL 1259 2222 \r\nL 1259 531 \r\nL 3634 531 \r\nL 3634 0 \r\nL 628 0 \r\nL 628 4666 \r\nz\r\n\" id=\"DejaVuSans-45\" transform=\"scale(0.015625)\"/>\r\n       </defs>\r\n       <use xlink:href=\"#DejaVuSans-41\"/>\r\n       <use x=\"66.658203\" xlink:href=\"#DejaVuSans-47\"/>\r\n       <use x=\"144.148438\" xlink:href=\"#DejaVuSans-45\"/>\r\n      </g>\r\n     </g>\r\n    </g>\r\n    <g id=\"ytick_7\">\r\n     <g id=\"line2d_16\">\r\n      <g>\r\n       <use style=\"stroke:#000000;stroke-width:0.8;\" x=\"69.559375\" xlink:href=\"#m5d1bbcc02c\" y=\"131.038125\"/>\r\n      </g>\r\n     </g>\r\n     <g id=\"text_17\">\r\n      <!-- NOX -->\r\n      <g transform=\"translate(40.99375 134.837344)scale(0.1 -0.1)\">\r\n       <defs>\r\n        <path d=\"M 628 4666 \r\nL 1478 4666 \r\nL 3547 763 \r\nL 3547 4666 \r\nL 4159 4666 \r\nL 4159 0 \r\nL 3309 0 \r\nL 1241 3903 \r\nL 1241 0 \r\nL 628 0 \r\nL 628 4666 \r\nz\r\n\" id=\"DejaVuSans-4e\" transform=\"scale(0.015625)\"/>\r\n        <path d=\"M 403 4666 \r\nL 1081 4666 \r\nL 2241 2931 \r\nL 3406 4666 \r\nL 4084 4666 \r\nL 2584 2425 \r\nL 4184 0 \r\nL 3506 0 \r\nL 2194 1984 \r\nL 872 0 \r\nL 191 0 \r\nL 1856 2491 \r\nL 403 4666 \r\nz\r\n\" id=\"DejaVuSans-58\" transform=\"scale(0.015625)\"/>\r\n       </defs>\r\n       <use xlink:href=\"#DejaVuSans-4e\"/>\r\n       <use x=\"74.804688\" xlink:href=\"#DejaVuSans-4f\"/>\r\n       <use x=\"147.140625\" xlink:href=\"#DejaVuSans-58\"/>\r\n      </g>\r\n     </g>\r\n    </g>\r\n    <g id=\"ytick_8\">\r\n     <g id=\"line2d_17\">\r\n      <g>\r\n       <use style=\"stroke:#000000;stroke-width:0.8;\" x=\"69.559375\" xlink:href=\"#m5d1bbcc02c\" y=\"147.764279\"/>\r\n      </g>\r\n     </g>\r\n     <g id=\"text_18\">\r\n      <!-- B -->\r\n      <g transform=\"translate(55.698438 151.563498)scale(0.1 -0.1)\">\r\n       <defs>\r\n        <path d=\"M 1259 2228 \r\nL 1259 519 \r\nL 2272 519 \r\nQ 2781 519 3026 730 \r\nQ 3272 941 3272 1375 \r\nQ 3272 1813 3026 2020 \r\nQ 2781 2228 2272 2228 \r\nL 1259 2228 \r\nz\r\nM 1259 4147 \r\nL 1259 2741 \r\nL 2194 2741 \r\nQ 2656 2741 2882 2914 \r\nQ 3109 3088 3109 3444 \r\nQ 3109 3797 2882 3972 \r\nQ 2656 4147 2194 4147 \r\nL 1259 4147 \r\nz\r\nM 628 4666 \r\nL 2241 4666 \r\nQ 2963 4666 3353 4366 \r\nQ 3744 4066 3744 3513 \r\nQ 3744 3084 3544 2831 \r\nQ 3344 2578 2956 2516 \r\nQ 3422 2416 3680 2098 \r\nQ 3938 1781 3938 1306 \r\nQ 3938 681 3513 340 \r\nQ 3088 0 2303 0 \r\nL 628 0 \r\nL 628 4666 \r\nz\r\n\" id=\"DejaVuSans-42\" transform=\"scale(0.015625)\"/>\r\n       </defs>\r\n       <use xlink:href=\"#DejaVuSans-42\"/>\r\n      </g>\r\n     </g>\r\n    </g>\r\n    <g id=\"ytick_9\">\r\n     <g id=\"line2d_18\">\r\n      <g>\r\n       <use style=\"stroke:#000000;stroke-width:0.8;\" x=\"69.559375\" xlink:href=\"#m5d1bbcc02c\" y=\"164.490433\"/>\r\n      </g>\r\n     </g>\r\n     <g id=\"text_19\">\r\n      <!-- TAX -->\r\n      <g transform=\"translate(43.535938 168.289651)scale(0.1 -0.1)\">\r\n       <use xlink:href=\"#DejaVuSans-54\"/>\r\n       <use x=\"53.333984\" xlink:href=\"#DejaVuSans-41\"/>\r\n       <use x=\"121.742188\" xlink:href=\"#DejaVuSans-58\"/>\r\n      </g>\r\n     </g>\r\n    </g>\r\n    <g id=\"ytick_10\">\r\n     <g id=\"line2d_19\">\r\n      <g>\r\n       <use style=\"stroke:#000000;stroke-width:0.8;\" x=\"69.559375\" xlink:href=\"#m5d1bbcc02c\" y=\"181.216587\"/>\r\n      </g>\r\n     </g>\r\n     <g id=\"text_20\">\r\n      <!-- INDUS -->\r\n      <g transform=\"translate(30.760938 185.015805)scale(0.1 -0.1)\">\r\n       <defs>\r\n        <path d=\"M 556 4666 \r\nL 1191 4666 \r\nL 1191 1831 \r\nQ 1191 1081 1462 751 \r\nQ 1734 422 2344 422 \r\nQ 2950 422 3222 751 \r\nQ 3494 1081 3494 1831 \r\nL 3494 4666 \r\nL 4128 4666 \r\nL 4128 1753 \r\nQ 4128 841 3676 375 \r\nQ 3225 -91 2344 -91 \r\nQ 1459 -91 1007 375 \r\nQ 556 841 556 1753 \r\nL 556 4666 \r\nz\r\n\" id=\"DejaVuSans-55\" transform=\"scale(0.015625)\"/>\r\n       </defs>\r\n       <use xlink:href=\"#DejaVuSans-49\"/>\r\n       <use x=\"29.492188\" xlink:href=\"#DejaVuSans-4e\"/>\r\n       <use x=\"104.296875\" xlink:href=\"#DejaVuSans-44\"/>\r\n       <use x=\"181.298828\" xlink:href=\"#DejaVuSans-55\"/>\r\n       <use x=\"254.492188\" xlink:href=\"#DejaVuSans-53\"/>\r\n      </g>\r\n     </g>\r\n    </g>\r\n    <g id=\"ytick_11\">\r\n     <g id=\"line2d_20\">\r\n      <g>\r\n       <use style=\"stroke:#000000;stroke-width:0.8;\" x=\"69.559375\" xlink:href=\"#m5d1bbcc02c\" y=\"197.94274\"/>\r\n      </g>\r\n     </g>\r\n     <g id=\"text_21\">\r\n      <!-- RAD -->\r\n      <g transform=\"translate(41.470313 201.741959)scale(0.1 -0.1)\">\r\n       <use xlink:href=\"#DejaVuSans-52\"/>\r\n       <use x=\"65.482422\" xlink:href=\"#DejaVuSans-41\"/>\r\n       <use x=\"133.890625\" xlink:href=\"#DejaVuSans-44\"/>\r\n      </g>\r\n     </g>\r\n    </g>\r\n    <g id=\"ytick_12\">\r\n     <g id=\"line2d_21\">\r\n      <g>\r\n       <use style=\"stroke:#000000;stroke-width:0.8;\" x=\"69.559375\" xlink:href=\"#m5d1bbcc02c\" y=\"214.668894\"/>\r\n      </g>\r\n     </g>\r\n     <g id=\"text_22\">\r\n      <!-- ZN -->\r\n      <g transform=\"translate(48.228125 218.468113)scale(0.1 -0.1)\">\r\n       <defs>\r\n        <path d=\"M 359 4666 \r\nL 4025 4666 \r\nL 4025 4184 \r\nL 1075 531 \r\nL 4097 531 \r\nL 4097 0 \r\nL 288 0 \r\nL 288 481 \r\nL 3238 4134 \r\nL 359 4134 \r\nL 359 4666 \r\nz\r\n\" id=\"DejaVuSans-5a\" transform=\"scale(0.015625)\"/>\r\n       </defs>\r\n       <use xlink:href=\"#DejaVuSans-5a\"/>\r\n       <use x=\"68.505859\" xlink:href=\"#DejaVuSans-4e\"/>\r\n      </g>\r\n     </g>\r\n    </g>\r\n    <g id=\"ytick_13\">\r\n     <g id=\"line2d_22\">\r\n      <g>\r\n       <use style=\"stroke:#000000;stroke-width:0.8;\" x=\"69.559375\" xlink:href=\"#m5d1bbcc02c\" y=\"231.395048\"/>\r\n      </g>\r\n     </g>\r\n     <g id=\"text_23\">\r\n      <!-- CHAS -->\r\n      <g transform=\"translate(34.867188 235.194267)scale(0.1 -0.1)\">\r\n       <defs>\r\n        <path d=\"M 628 4666 \r\nL 1259 4666 \r\nL 1259 2753 \r\nL 3553 2753 \r\nL 3553 4666 \r\nL 4184 4666 \r\nL 4184 0 \r\nL 3553 0 \r\nL 3553 2222 \r\nL 1259 2222 \r\nL 1259 0 \r\nL 628 0 \r\nL 628 4666 \r\nz\r\n\" id=\"DejaVuSans-48\" transform=\"scale(0.015625)\"/>\r\n       </defs>\r\n       <use xlink:href=\"#DejaVuSans-43\"/>\r\n       <use x=\"69.824219\" xlink:href=\"#DejaVuSans-48\"/>\r\n       <use x=\"145.019531\" xlink:href=\"#DejaVuSans-41\"/>\r\n       <use x=\"213.427734\" xlink:href=\"#DejaVuSans-53\"/>\r\n      </g>\r\n     </g>\r\n    </g>\r\n    <g id=\"text_24\">\r\n     <!-- Признаки -->\r\n     <g transform=\"translate(14.798437 156.482656)rotate(-90)scale(0.1 -0.1)\">\r\n      <defs>\r\n       <path d=\"M 4184 4666 \r\nL 4184 0 \r\nL 3553 0 \r\nL 3553 4134 \r\nL 1259 4134 \r\nL 1259 0 \r\nL 628 0 \r\nL 628 4666 \r\nL 4184 4666 \r\nz\r\n\" id=\"DejaVuSans-41f\" transform=\"scale(0.015625)\"/>\r\n      </defs>\r\n      <use xlink:href=\"#DejaVuSans-41f\"/>\r\n      <use x=\"75.195312\" xlink:href=\"#DejaVuSans-440\"/>\r\n      <use x=\"138.671875\" xlink:href=\"#DejaVuSans-438\"/>\r\n      <use x=\"203.662109\" xlink:href=\"#DejaVuSans-437\"/>\r\n      <use x=\"256.835938\" xlink:href=\"#DejaVuSans-43d\"/>\r\n      <use x=\"322.216797\" xlink:href=\"#DejaVuSans-430\"/>\r\n      <use x=\"383.496094\" xlink:href=\"#DejaVuSans-43a\"/>\r\n      <use x=\"443.896484\" xlink:href=\"#DejaVuSans-438\"/>\r\n     </g>\r\n    </g>\r\n   </g>\r\n   <g id=\"line2d_23\">\r\n    <path clip-path=\"url(#p3562c99b14)\" style=\"fill:none;stroke:#424242;stroke-linecap:square;stroke-width:2.7;\"/>\r\n   </g>\r\n   <g id=\"line2d_24\">\r\n    <path clip-path=\"url(#p3562c99b14)\" style=\"fill:none;stroke:#424242;stroke-linecap:square;stroke-width:2.7;\"/>\r\n   </g>\r\n   <g id=\"line2d_25\">\r\n    <path clip-path=\"url(#p3562c99b14)\" style=\"fill:none;stroke:#424242;stroke-linecap:square;stroke-width:2.7;\"/>\r\n   </g>\r\n   <g id=\"line2d_26\">\r\n    <path clip-path=\"url(#p3562c99b14)\" style=\"fill:none;stroke:#424242;stroke-linecap:square;stroke-width:2.7;\"/>\r\n   </g>\r\n   <g id=\"line2d_27\">\r\n    <path clip-path=\"url(#p3562c99b14)\" style=\"fill:none;stroke:#424242;stroke-linecap:square;stroke-width:2.7;\"/>\r\n   </g>\r\n   <g id=\"line2d_28\">\r\n    <path clip-path=\"url(#p3562c99b14)\" style=\"fill:none;stroke:#424242;stroke-linecap:square;stroke-width:2.7;\"/>\r\n   </g>\r\n   <g id=\"line2d_29\">\r\n    <path clip-path=\"url(#p3562c99b14)\" style=\"fill:none;stroke:#424242;stroke-linecap:square;stroke-width:2.7;\"/>\r\n   </g>\r\n   <g id=\"line2d_30\">\r\n    <path clip-path=\"url(#p3562c99b14)\" style=\"fill:none;stroke:#424242;stroke-linecap:square;stroke-width:2.7;\"/>\r\n   </g>\r\n   <g id=\"line2d_31\">\r\n    <path clip-path=\"url(#p3562c99b14)\" style=\"fill:none;stroke:#424242;stroke-linecap:square;stroke-width:2.7;\"/>\r\n   </g>\r\n   <g id=\"line2d_32\">\r\n    <path clip-path=\"url(#p3562c99b14)\" style=\"fill:none;stroke:#424242;stroke-linecap:square;stroke-width:2.7;\"/>\r\n   </g>\r\n   <g id=\"line2d_33\">\r\n    <path clip-path=\"url(#p3562c99b14)\" style=\"fill:none;stroke:#424242;stroke-linecap:square;stroke-width:2.7;\"/>\r\n   </g>\r\n   <g id=\"line2d_34\">\r\n    <path clip-path=\"url(#p3562c99b14)\" style=\"fill:none;stroke:#424242;stroke-linecap:square;stroke-width:2.7;\"/>\r\n   </g>\r\n   <g id=\"line2d_35\">\r\n    <path clip-path=\"url(#p3562c99b14)\" style=\"fill:none;stroke:#424242;stroke-linecap:square;stroke-width:2.7;\"/>\r\n   </g>\r\n   <g id=\"patch_16\">\r\n    <path d=\"M 69.559375 239.758125 \r\nL 69.559375 22.318125 \r\n\" style=\"fill:none;stroke:#000000;stroke-linecap:square;stroke-linejoin:miter;stroke-width:0.8;\"/>\r\n   </g>\r\n   <g id=\"patch_17\">\r\n    <path d=\"M 404.359375 239.758125 \r\nL 404.359375 22.318125 \r\n\" style=\"fill:none;stroke:#000000;stroke-linecap:square;stroke-linejoin:miter;stroke-width:0.8;\"/>\r\n   </g>\r\n   <g id=\"patch_18\">\r\n    <path d=\"M 69.559375 239.758125 \r\nL 404.359375 239.758125 \r\n\" style=\"fill:none;stroke:#000000;stroke-linecap:square;stroke-linejoin:miter;stroke-width:0.8;\"/>\r\n   </g>\r\n   <g id=\"patch_19\">\r\n    <path d=\"M 69.559375 22.318125 \r\nL 404.359375 22.318125 \r\n\" style=\"fill:none;stroke:#000000;stroke-linecap:square;stroke-linejoin:miter;stroke-width:0.8;\"/>\r\n   </g>\r\n   <g id=\"text_25\">\r\n    <!-- Визуализация важных признаков -->\r\n    <g transform=\"translate(130.435938 16.318125)scale(0.12 -0.12)\">\r\n     <defs>\r\n      <path d=\"M 2059 -325 \r\nQ 1816 -950 1584 -1140 \r\nQ 1353 -1331 966 -1331 \r\nL 506 -1331 \r\nL 506 -850 \r\nL 844 -850 \r\nQ 1081 -850 1212 -737 \r\nQ 1344 -625 1503 -206 \r\nL 1606 56 \r\nL 191 3500 \r\nL 800 3500 \r\nL 1894 763 \r\nL 2988 3500 \r\nL 3597 3500 \r\nL 2059 -325 \r\nz\r\n\" id=\"DejaVuSans-443\" transform=\"scale(0.015625)\"/>\r\n      <path d=\"M 238 0 \r\nL 238 478 \r\nQ 806 566 981 959 \r\nQ 1194 1513 1194 2928 \r\nL 1194 3500 \r\nL 3559 3500 \r\nL 3559 0 \r\nL 2984 0 \r\nL 2984 3041 \r\nL 1769 3041 \r\nL 1769 2694 \r\nQ 1769 1344 1494 738 \r\nQ 1200 91 238 0 \r\nz\r\n\" id=\"DejaVuSans-43b\" transform=\"scale(0.015625)\"/>\r\n      <path d=\"M 3603 0 \r\nL 581 0 \r\nL 581 3500 \r\nL 1159 3500 \r\nL 1159 459 \r\nL 3025 459 \r\nL 3025 3500 \r\nL 3603 3500 \r\nL 3603 459 \r\nL 4063 459 \r\nL 4063 -884 \r\nL 3603 -884 \r\nL 3603 0 \r\nz\r\n\" id=\"DejaVuSans-446\" transform=\"scale(0.015625)\"/>\r\n      <path d=\"M 1181 2491 \r\nQ 1181 2231 1381 2084 \r\nQ 1581 1938 1953 1938 \r\nL 2728 1938 \r\nL 2728 3041 \r\nL 1953 3041 \r\nQ 1581 3041 1381 2897 \r\nQ 1181 2753 1181 2491 \r\nz\r\nM 363 0 \r\nL 1431 1534 \r\nQ 1069 1616 828 1830 \r\nQ 588 2044 588 2491 \r\nQ 588 2997 923 3248 \r\nQ 1259 3500 1938 3500 \r\nL 3306 3500 \r\nL 3306 0 \r\nL 2728 0 \r\nL 2728 1478 \r\nL 2013 1478 \r\nL 981 0 \r\nL 363 0 \r\nz\r\n\" id=\"DejaVuSans-44f\" transform=\"scale(0.015625)\"/>\r\n      <path d=\"M 3907 3500 \r\nL 4482 3500 \r\nL 4482 0 \r\nL 3907 0 \r\nL 3907 3500 \r\nz\r\nM 4195 3584 \r\nL 4195 3584 \r\nz\r\nM 2781 1038 \r\nQ 2781 1319 2576 1466 \r\nQ 2372 1613 1978 1613 \r\nL 1159 1613 \r\nL 1159 459 \r\nL 1978 459 \r\nQ 2372 459 2576 607 \r\nQ 2781 756 2781 1038 \r\nz\r\nM 581 3500 \r\nL 1159 3500 \r\nL 1159 2072 \r\nL 2003 2072 \r\nQ 2672 2072 3033 1817 \r\nQ 3394 1563 3394 1038 \r\nQ 3394 513 3033 256 \r\nQ 2672 0 2003 0 \r\nL 581 0 \r\nL 581 3500 \r\nz\r\n\" id=\"DejaVuSans-44b\" transform=\"scale(0.015625)\"/>\r\n      <path d=\"M 3513 3500 \r\nL 2247 1797 \r\nL 3578 0 \r\nL 2900 0 \r\nL 1881 1375 \r\nL 863 0 \r\nL 184 0 \r\nL 1544 1831 \r\nL 300 3500 \r\nL 978 3500 \r\nL 1906 2253 \r\nL 2834 3500 \r\nL 3513 3500 \r\nz\r\n\" id=\"DejaVuSans-445\" transform=\"scale(0.015625)\"/>\r\n     </defs>\r\n     <use xlink:href=\"#DejaVuSans-412\"/>\r\n     <use x=\"68.603516\" xlink:href=\"#DejaVuSans-438\"/>\r\n     <use x=\"133.59375\" xlink:href=\"#DejaVuSans-437\"/>\r\n     <use x=\"186.767578\" xlink:href=\"#DejaVuSans-443\"/>\r\n     <use x=\"245.947266\" xlink:href=\"#DejaVuSans-430\"/>\r\n     <use x=\"307.226562\" xlink:href=\"#DejaVuSans-43b\"/>\r\n     <use x=\"371.142578\" xlink:href=\"#DejaVuSans-438\"/>\r\n     <use x=\"436.132812\" xlink:href=\"#DejaVuSans-437\"/>\r\n     <use x=\"489.306641\" xlink:href=\"#DejaVuSans-430\"/>\r\n     <use x=\"550.585938\" xlink:href=\"#DejaVuSans-446\"/>\r\n     <use x=\"618.652344\" xlink:href=\"#DejaVuSans-438\"/>\r\n     <use x=\"683.642578\" xlink:href=\"#DejaVuSans-44f\"/>\r\n     <use x=\"743.798828\" xlink:href=\"#DejaVuSans-20\"/>\r\n     <use x=\"775.585938\" xlink:href=\"#DejaVuSans-432\"/>\r\n     <use x=\"834.521484\" xlink:href=\"#DejaVuSans-430\"/>\r\n     <use x=\"895.800781\" xlink:href=\"#DejaVuSans-436\"/>\r\n     <use x=\"985.888672\" xlink:href=\"#DejaVuSans-43d\"/>\r\n     <use x=\"1051.269531\" xlink:href=\"#DejaVuSans-44b\"/>\r\n     <use x=\"1130.224609\" xlink:href=\"#DejaVuSans-445\"/>\r\n     <use x=\"1189.404297\" xlink:href=\"#DejaVuSans-20\"/>\r\n     <use x=\"1221.191406\" xlink:href=\"#DejaVuSans-43f\"/>\r\n     <use x=\"1286.572266\" xlink:href=\"#DejaVuSans-440\"/>\r\n     <use x=\"1350.048828\" xlink:href=\"#DejaVuSans-438\"/>\r\n     <use x=\"1415.039062\" xlink:href=\"#DejaVuSans-437\"/>\r\n     <use x=\"1468.212891\" xlink:href=\"#DejaVuSans-43d\"/>\r\n     <use x=\"1533.59375\" xlink:href=\"#DejaVuSans-430\"/>\r\n     <use x=\"1594.873047\" xlink:href=\"#DejaVuSans-43a\"/>\r\n     <use x=\"1655.273438\" xlink:href=\"#DejaVuSans-43e\"/>\r\n     <use x=\"1716.455078\" xlink:href=\"#DejaVuSans-432\"/>\r\n    </g>\r\n   </g>\r\n  </g>\r\n </g>\r\n <defs>\r\n  <clipPath id=\"p3562c99b14\">\r\n   <rect height=\"217.44\" width=\"334.8\" x=\"69.559375\" y=\"22.318125\"/>\r\n  </clipPath>\r\n </defs>\r\n</svg>\r\n",
                        "image/png": "[encoded data removed]"
                    },
                    "metadata": {
                        "needs_background": "light"
                    }
                }
            ],
            "metadata": {}
        },
        {
            "cell_type": "markdown",
            "source": [
                "Найдем сумму всех показателей важности"
            ],
            "metadata": {}
        },
        {
            "cell_type": "code",
            "execution_count": 313,
            "source": [
                "sum(forest_model.feature_importances_)"
            ],
            "outputs": [
                {
                    "output_type": "execute_result",
                    "data": {
                        "text/plain": [
                            "1.0"
                        ]
                    },
                    "metadata": {},
                    "execution_count": 313
                }
            ],
            "metadata": {}
        },
        {
            "cell_type": "markdown",
            "source": [
                "## Выводы\r\n",
                "\r\n",
                "Судя по графику двумя основными признаками являются \"Процент населения с низким уровнем жизни\" (LSTAT) и \"Среднее количество комнат в доме\" (RM)"
            ],
            "metadata": {}
        }
    ],
    "metadata": {
        "orig_nbformat": 4,
        "language_info": {
            "name": "python",
            "version": "3.9.6",
            "mimetype": "text/x-python",
            "codemirror_mode": {
                "name": "ipython",
                "version": 3
            },
            "pygments_lexer": "ipython3",
            "nbconvert_exporter": "python",
            "file_extension": ".py"
        },
        "kernelspec": {
            "name": "python3",
            "display_name": "Python 3.9.6 64-bit"
        },
        "interpreter": {
            "hash": "d9aede4be6e81a40b0fa095e83f277e9336160157c6e4cd06027d8babb990a2b"
        }
    },
    "nbformat": 4,
    "nbformat_minor": 2
}