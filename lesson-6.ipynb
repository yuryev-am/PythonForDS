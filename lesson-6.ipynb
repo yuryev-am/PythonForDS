{
    "cells": [
        {
            "cell_type": "markdown",
            "source": [
                "# Обучение с учителем\r\n"
            ],
            "metadata": {}
        },
        {
            "cell_type": "markdown",
            "source": [
                "## Задание 1"
            ],
            "metadata": {}
        },
        {
            "cell_type": "code",
            "execution_count": 61,
            "source": [
                "import pandas as pd\r\n",
                "import numpy as np\r\n",
                "from sklearn.metrics import r2_score as r2, mean_absolute_error as mae, mean_squared_error as mse\r\n",
                "\r\n",
                "import matplotlib.pyplot as plt\r\n",
                "import seaborn as sns\r\n",
                "\r\n",
                "%matplotlib inline"
            ],
            "outputs": [],
            "metadata": {}
        },
        {
            "cell_type": "code",
            "execution_count": 62,
            "source": [
                "from sklearn.datasets import load_boston"
            ],
            "outputs": [],
            "metadata": {}
        },
        {
            "cell_type": "code",
            "execution_count": 63,
            "source": [
                "boston = load_boston()"
            ],
            "outputs": [],
            "metadata": {}
        },
        {
            "cell_type": "code",
            "execution_count": 64,
            "source": [
                "boston.keys()"
            ],
            "outputs": [
                {
                    "output_type": "execute_result",
                    "data": {
                        "text/plain": [
                            "dict_keys(['data', 'target', 'feature_names', 'DESCR', 'filename'])"
                        ]
                    },
                    "metadata": {},
                    "execution_count": 64
                }
            ],
            "metadata": {}
        },
        {
            "cell_type": "code",
            "execution_count": 65,
            "source": [
                "feature_names = boston[\"feature_names\"]\r\n",
                "\r\n",
                "feature_names"
            ],
            "outputs": [
                {
                    "output_type": "execute_result",
                    "data": {
                        "text/plain": [
                            "array(['CRIM', 'ZN', 'INDUS', 'CHAS', 'NOX', 'RM', 'AGE', 'DIS', 'RAD',\n",
                            "       'TAX', 'PTRATIO', 'B', 'LSTAT'], dtype='<U7')"
                        ]
                    },
                    "metadata": {},
                    "execution_count": 65
                }
            ],
            "metadata": {}
        },
        {
            "cell_type": "code",
            "execution_count": 66,
            "source": [
                "print(boston[\"DESCR\"])"
            ],
            "outputs": [
                {
                    "output_type": "stream",
                    "name": "stdout",
                    "text": [
                        ".. _boston_dataset:\n",
                        "\n",
                        "Boston house prices dataset\n",
                        "---------------------------\n",
                        "\n",
                        "**Data Set Characteristics:**  \n",
                        "\n",
                        "    :Number of Instances: 506 \n",
                        "\n",
                        "    :Number of Attributes: 13 numeric/categorical predictive. Median Value (attribute 14) is usually the target.\n",
                        "\n",
                        "    :Attribute Information (in order):\n",
                        "        - CRIM     per capita crime rate by town\n",
                        "        - ZN       proportion of residential land zoned for lots over 25,000 sq.ft.\n",
                        "        - INDUS    proportion of non-retail business acres per town\n",
                        "        - CHAS     Charles River dummy variable (= 1 if tract bounds river; 0 otherwise)\n",
                        "        - NOX      nitric oxides concentration (parts per 10 million)\n",
                        "        - RM       average number of rooms per dwelling\n",
                        "        - AGE      proportion of owner-occupied units built prior to 1940\n",
                        "        - DIS      weighted distances to five Boston employment centres\n",
                        "        - RAD      index of accessibility to radial highways\n",
                        "        - TAX      full-value property-tax rate per $10,000\n",
                        "        - PTRATIO  pupil-teacher ratio by town\n",
                        "        - B        1000(Bk - 0.63)^2 where Bk is the proportion of black people by town\n",
                        "        - LSTAT    % lower status of the population\n",
                        "        - MEDV     Median value of owner-occupied homes in $1000's\n",
                        "\n",
                        "    :Missing Attribute Values: None\n",
                        "\n",
                        "    :Creator: Harrison, D. and Rubinfeld, D.L.\n",
                        "\n",
                        "This is a copy of UCI ML housing dataset.\n",
                        "https://archive.ics.uci.edu/ml/machine-learning-databases/housing/\n",
                        "\n",
                        "\n",
                        "This dataset was taken from the StatLib library which is maintained at Carnegie Mellon University.\n",
                        "\n",
                        "The Boston house-price data of Harrison, D. and Rubinfeld, D.L. 'Hedonic\n",
                        "prices and the demand for clean air', J. Environ. Economics & Management,\n",
                        "vol.5, 81-102, 1978.   Used in Belsley, Kuh & Welsch, 'Regression diagnostics\n",
                        "...', Wiley, 1980.   N.B. Various transformations are used in the table on\n",
                        "pages 244-261 of the latter.\n",
                        "\n",
                        "The Boston house-price data has been used in many machine learning papers that address regression\n",
                        "problems.   \n",
                        "     \n",
                        ".. topic:: References\n",
                        "\n",
                        "   - Belsley, Kuh & Welsch, 'Regression diagnostics: Identifying Influential Data and Sources of Collinearity', Wiley, 1980. 244-261.\n",
                        "   - Quinlan,R. (1993). Combining Instance-Based and Model-Based Learning. In Proceedings on the Tenth International Conference of Machine Learning, 236-243, University of Massachusetts, Amherst. Morgan Kaufmann.\n",
                        "\n"
                    ]
                }
            ],
            "metadata": {}
        },
        {
            "cell_type": "code",
            "execution_count": 67,
            "source": [
                "X = pd.DataFrame(data, columns=feature_names)\r\n",
                "\r\n",
                "X.head()"
            ],
            "outputs": [
                {
                    "output_type": "execute_result",
                    "data": {
                        "text/plain": [
                            "      CRIM    ZN  INDUS  CHAS    NOX     RM   AGE     DIS  RAD    TAX  \\\n",
                            "0  0.00632  18.0   2.31   0.0  0.538  6.575  65.2  4.0900  1.0  296.0   \n",
                            "1  0.02731   0.0   7.07   0.0  0.469  6.421  78.9  4.9671  2.0  242.0   \n",
                            "2  0.02729   0.0   7.07   0.0  0.469  7.185  61.1  4.9671  2.0  242.0   \n",
                            "3  0.03237   0.0   2.18   0.0  0.458  6.998  45.8  6.0622  3.0  222.0   \n",
                            "4  0.06905   0.0   2.18   0.0  0.458  7.147  54.2  6.0622  3.0  222.0   \n",
                            "\n",
                            "   PTRATIO       B  LSTAT  \n",
                            "0     15.3  396.90   4.98  \n",
                            "1     17.8  396.90   9.14  \n",
                            "2     17.8  392.83   4.03  \n",
                            "3     18.7  394.63   2.94  \n",
                            "4     18.7  396.90   5.33  "
                        ],
                        "text/html": [
                            "<div>\n",
                            "<style scoped>\n",
                            "    .dataframe tbody tr th:only-of-type {\n",
                            "        vertical-align: middle;\n",
                            "    }\n",
                            "\n",
                            "    .dataframe tbody tr th {\n",
                            "        vertical-align: top;\n",
                            "    }\n",
                            "\n",
                            "    .dataframe thead th {\n",
                            "        text-align: right;\n",
                            "    }\n",
                            "</style>\n",
                            "<table border=\"1\" class=\"dataframe\">\n",
                            "  <thead>\n",
                            "    <tr style=\"text-align: right;\">\n",
                            "      <th></th>\n",
                            "      <th>CRIM</th>\n",
                            "      <th>ZN</th>\n",
                            "      <th>INDUS</th>\n",
                            "      <th>CHAS</th>\n",
                            "      <th>NOX</th>\n",
                            "      <th>RM</th>\n",
                            "      <th>AGE</th>\n",
                            "      <th>DIS</th>\n",
                            "      <th>RAD</th>\n",
                            "      <th>TAX</th>\n",
                            "      <th>PTRATIO</th>\n",
                            "      <th>B</th>\n",
                            "      <th>LSTAT</th>\n",
                            "    </tr>\n",
                            "  </thead>\n",
                            "  <tbody>\n",
                            "    <tr>\n",
                            "      <th>0</th>\n",
                            "      <td>0.00632</td>\n",
                            "      <td>18.0</td>\n",
                            "      <td>2.31</td>\n",
                            "      <td>0.0</td>\n",
                            "      <td>0.538</td>\n",
                            "      <td>6.575</td>\n",
                            "      <td>65.2</td>\n",
                            "      <td>4.0900</td>\n",
                            "      <td>1.0</td>\n",
                            "      <td>296.0</td>\n",
                            "      <td>15.3</td>\n",
                            "      <td>396.90</td>\n",
                            "      <td>4.98</td>\n",
                            "    </tr>\n",
                            "    <tr>\n",
                            "      <th>1</th>\n",
                            "      <td>0.02731</td>\n",
                            "      <td>0.0</td>\n",
                            "      <td>7.07</td>\n",
                            "      <td>0.0</td>\n",
                            "      <td>0.469</td>\n",
                            "      <td>6.421</td>\n",
                            "      <td>78.9</td>\n",
                            "      <td>4.9671</td>\n",
                            "      <td>2.0</td>\n",
                            "      <td>242.0</td>\n",
                            "      <td>17.8</td>\n",
                            "      <td>396.90</td>\n",
                            "      <td>9.14</td>\n",
                            "    </tr>\n",
                            "    <tr>\n",
                            "      <th>2</th>\n",
                            "      <td>0.02729</td>\n",
                            "      <td>0.0</td>\n",
                            "      <td>7.07</td>\n",
                            "      <td>0.0</td>\n",
                            "      <td>0.469</td>\n",
                            "      <td>7.185</td>\n",
                            "      <td>61.1</td>\n",
                            "      <td>4.9671</td>\n",
                            "      <td>2.0</td>\n",
                            "      <td>242.0</td>\n",
                            "      <td>17.8</td>\n",
                            "      <td>392.83</td>\n",
                            "      <td>4.03</td>\n",
                            "    </tr>\n",
                            "    <tr>\n",
                            "      <th>3</th>\n",
                            "      <td>0.03237</td>\n",
                            "      <td>0.0</td>\n",
                            "      <td>2.18</td>\n",
                            "      <td>0.0</td>\n",
                            "      <td>0.458</td>\n",
                            "      <td>6.998</td>\n",
                            "      <td>45.8</td>\n",
                            "      <td>6.0622</td>\n",
                            "      <td>3.0</td>\n",
                            "      <td>222.0</td>\n",
                            "      <td>18.7</td>\n",
                            "      <td>394.63</td>\n",
                            "      <td>2.94</td>\n",
                            "    </tr>\n",
                            "    <tr>\n",
                            "      <th>4</th>\n",
                            "      <td>0.06905</td>\n",
                            "      <td>0.0</td>\n",
                            "      <td>2.18</td>\n",
                            "      <td>0.0</td>\n",
                            "      <td>0.458</td>\n",
                            "      <td>7.147</td>\n",
                            "      <td>54.2</td>\n",
                            "      <td>6.0622</td>\n",
                            "      <td>3.0</td>\n",
                            "      <td>222.0</td>\n",
                            "      <td>18.7</td>\n",
                            "      <td>396.90</td>\n",
                            "      <td>5.33</td>\n",
                            "    </tr>\n",
                            "  </tbody>\n",
                            "</table>\n",
                            "</div>"
                        ]
                    },
                    "metadata": {},
                    "execution_count": 67
                }
            ],
            "metadata": {}
        },
        {
            "cell_type": "code",
            "execution_count": 68,
            "source": [
                "X.info()"
            ],
            "outputs": [
                {
                    "output_type": "stream",
                    "name": "stdout",
                    "text": [
                        "<class 'pandas.core.frame.DataFrame'>\n",
                        "RangeIndex: 506 entries, 0 to 505\n",
                        "Data columns (total 13 columns):\n",
                        " #   Column   Non-Null Count  Dtype  \n",
                        "---  ------   --------------  -----  \n",
                        " 0   CRIM     506 non-null    float64\n",
                        " 1   ZN       506 non-null    float64\n",
                        " 2   INDUS    506 non-null    float64\n",
                        " 3   CHAS     506 non-null    float64\n",
                        " 4   NOX      506 non-null    float64\n",
                        " 5   RM       506 non-null    float64\n",
                        " 6   AGE      506 non-null    float64\n",
                        " 7   DIS      506 non-null    float64\n",
                        " 8   RAD      506 non-null    float64\n",
                        " 9   TAX      506 non-null    float64\n",
                        " 10  PTRATIO  506 non-null    float64\n",
                        " 11  B        506 non-null    float64\n",
                        " 12  LSTAT    506 non-null    float64\n",
                        "dtypes: float64(13)\n",
                        "memory usage: 51.5 KB\n"
                    ]
                }
            ],
            "metadata": {}
        },
        {
            "cell_type": "code",
            "execution_count": 69,
            "source": [
                "target = boston[\"target\"]\r\n",
                "\r\n",
                "target[:10]"
            ],
            "outputs": [
                {
                    "output_type": "execute_result",
                    "data": {
                        "text/plain": [
                            "array([24. , 21.6, 34.7, 33.4, 36.2, 28.7, 22.9, 27.1, 16.5, 18.9])"
                        ]
                    },
                    "metadata": {},
                    "execution_count": 69
                }
            ],
            "metadata": {}
        },
        {
            "cell_type": "code",
            "execution_count": 70,
            "source": [
                "y = pd.DataFrame(target, columns=[\"price\"])\r\n",
                "\r\n",
                "y.info()"
            ],
            "outputs": [
                {
                    "output_type": "stream",
                    "name": "stdout",
                    "text": [
                        "<class 'pandas.core.frame.DataFrame'>\n",
                        "RangeIndex: 506 entries, 0 to 505\n",
                        "Data columns (total 1 columns):\n",
                        " #   Column  Non-Null Count  Dtype  \n",
                        "---  ------  --------------  -----  \n",
                        " 0   price   506 non-null    float64\n",
                        "dtypes: float64(1)\n",
                        "memory usage: 4.1 KB\n"
                    ]
                }
            ],
            "metadata": {}
        },
        {
            "cell_type": "code",
            "execution_count": 71,
            "source": [
                "from sklearn.model_selection import train_test_split"
            ],
            "outputs": [],
            "metadata": {}
        },
        {
            "cell_type": "code",
            "execution_count": 72,
            "source": [
                "X_train, X_test, y_train, y_test = train_test_split(X, y, test_size=0.3, shuffle=True, random_state=42)"
            ],
            "outputs": [],
            "metadata": {}
        },
        {
            "cell_type": "code",
            "execution_count": 73,
            "source": [
                "from sklearn.linear_model import LinearRegression"
            ],
            "outputs": [],
            "metadata": {}
        },
        {
            "cell_type": "code",
            "execution_count": 74,
            "source": [
                "lr = LinearRegression()"
            ],
            "outputs": [],
            "metadata": {}
        },
        {
            "cell_type": "code",
            "execution_count": 75,
            "source": [
                "lr.fit(X_train, y_train)"
            ],
            "outputs": [
                {
                    "output_type": "execute_result",
                    "data": {
                        "text/plain": [
                            "LinearRegression()"
                        ]
                    },
                    "metadata": {},
                    "execution_count": 75
                }
            ],
            "metadata": {}
        },
        {
            "cell_type": "code",
            "execution_count": 80,
            "source": [
                "y_pred = lr.predict(X_test)"
            ],
            "outputs": [],
            "metadata": {}
        },
        {
            "cell_type": "code",
            "execution_count": 81,
            "source": [
                "check_test = pd.DataFrame({\r\n",
                "    \"y_test\": y_test[\"price\"],\r\n",
                "    \"y_pred\": y_pred.flatten(),\r\n",
                "})\r\n",
                "\r\n",
                "check_test.head(10)"
            ],
            "outputs": [
                {
                    "output_type": "execute_result",
                    "data": {
                        "text/plain": [
                            "     y_test     y_pred\n",
                            "173    23.6  28.648960\n",
                            "274    32.4  36.495014\n",
                            "491    13.6  15.411193\n",
                            "72     22.8  25.403213\n",
                            "452    16.1  18.855280\n",
                            "76     20.0  23.146689\n",
                            "316    17.8  17.392124\n",
                            "140    14.0  14.078599\n",
                            "471    19.6  23.036927\n",
                            "500    16.8  20.599433"
                        ],
                        "text/html": [
                            "<div>\n",
                            "<style scoped>\n",
                            "    .dataframe tbody tr th:only-of-type {\n",
                            "        vertical-align: middle;\n",
                            "    }\n",
                            "\n",
                            "    .dataframe tbody tr th {\n",
                            "        vertical-align: top;\n",
                            "    }\n",
                            "\n",
                            "    .dataframe thead th {\n",
                            "        text-align: right;\n",
                            "    }\n",
                            "</style>\n",
                            "<table border=\"1\" class=\"dataframe\">\n",
                            "  <thead>\n",
                            "    <tr style=\"text-align: right;\">\n",
                            "      <th></th>\n",
                            "      <th>y_test</th>\n",
                            "      <th>y_pred</th>\n",
                            "    </tr>\n",
                            "  </thead>\n",
                            "  <tbody>\n",
                            "    <tr>\n",
                            "      <th>173</th>\n",
                            "      <td>23.6</td>\n",
                            "      <td>28.648960</td>\n",
                            "    </tr>\n",
                            "    <tr>\n",
                            "      <th>274</th>\n",
                            "      <td>32.4</td>\n",
                            "      <td>36.495014</td>\n",
                            "    </tr>\n",
                            "    <tr>\n",
                            "      <th>491</th>\n",
                            "      <td>13.6</td>\n",
                            "      <td>15.411193</td>\n",
                            "    </tr>\n",
                            "    <tr>\n",
                            "      <th>72</th>\n",
                            "      <td>22.8</td>\n",
                            "      <td>25.403213</td>\n",
                            "    </tr>\n",
                            "    <tr>\n",
                            "      <th>452</th>\n",
                            "      <td>16.1</td>\n",
                            "      <td>18.855280</td>\n",
                            "    </tr>\n",
                            "    <tr>\n",
                            "      <th>76</th>\n",
                            "      <td>20.0</td>\n",
                            "      <td>23.146689</td>\n",
                            "    </tr>\n",
                            "    <tr>\n",
                            "      <th>316</th>\n",
                            "      <td>17.8</td>\n",
                            "      <td>17.392124</td>\n",
                            "    </tr>\n",
                            "    <tr>\n",
                            "      <th>140</th>\n",
                            "      <td>14.0</td>\n",
                            "      <td>14.078599</td>\n",
                            "    </tr>\n",
                            "    <tr>\n",
                            "      <th>471</th>\n",
                            "      <td>19.6</td>\n",
                            "      <td>23.036927</td>\n",
                            "    </tr>\n",
                            "    <tr>\n",
                            "      <th>500</th>\n",
                            "      <td>16.8</td>\n",
                            "      <td>20.599433</td>\n",
                            "    </tr>\n",
                            "  </tbody>\n",
                            "</table>\n",
                            "</div>"
                        ]
                    },
                    "metadata": {},
                    "execution_count": 81
                }
            ],
            "metadata": {}
        },
        {
            "cell_type": "code",
            "execution_count": 82,
            "source": [
                "check_test[\"error\"] = check_test[\"y_pred\"] - check_test[\"y_test\"]\r\n",
                "\r\n",
                "check_test.head()"
            ],
            "outputs": [
                {
                    "output_type": "execute_result",
                    "data": {
                        "text/plain": [
                            "     y_test     y_pred     error\n",
                            "173    23.6  28.648960  5.048960\n",
                            "274    32.4  36.495014  4.095014\n",
                            "491    13.6  15.411193  1.811193\n",
                            "72     22.8  25.403213  2.603213\n",
                            "452    16.1  18.855280  2.755280"
                        ],
                        "text/html": [
                            "<div>\n",
                            "<style scoped>\n",
                            "    .dataframe tbody tr th:only-of-type {\n",
                            "        vertical-align: middle;\n",
                            "    }\n",
                            "\n",
                            "    .dataframe tbody tr th {\n",
                            "        vertical-align: top;\n",
                            "    }\n",
                            "\n",
                            "    .dataframe thead th {\n",
                            "        text-align: right;\n",
                            "    }\n",
                            "</style>\n",
                            "<table border=\"1\" class=\"dataframe\">\n",
                            "  <thead>\n",
                            "    <tr style=\"text-align: right;\">\n",
                            "      <th></th>\n",
                            "      <th>y_test</th>\n",
                            "      <th>y_pred</th>\n",
                            "      <th>error</th>\n",
                            "    </tr>\n",
                            "  </thead>\n",
                            "  <tbody>\n",
                            "    <tr>\n",
                            "      <th>173</th>\n",
                            "      <td>23.6</td>\n",
                            "      <td>28.648960</td>\n",
                            "      <td>5.048960</td>\n",
                            "    </tr>\n",
                            "    <tr>\n",
                            "      <th>274</th>\n",
                            "      <td>32.4</td>\n",
                            "      <td>36.495014</td>\n",
                            "      <td>4.095014</td>\n",
                            "    </tr>\n",
                            "    <tr>\n",
                            "      <th>491</th>\n",
                            "      <td>13.6</td>\n",
                            "      <td>15.411193</td>\n",
                            "      <td>1.811193</td>\n",
                            "    </tr>\n",
                            "    <tr>\n",
                            "      <th>72</th>\n",
                            "      <td>22.8</td>\n",
                            "      <td>25.403213</td>\n",
                            "      <td>2.603213</td>\n",
                            "    </tr>\n",
                            "    <tr>\n",
                            "      <th>452</th>\n",
                            "      <td>16.1</td>\n",
                            "      <td>18.855280</td>\n",
                            "      <td>2.755280</td>\n",
                            "    </tr>\n",
                            "  </tbody>\n",
                            "</table>\n",
                            "</div>"
                        ]
                    },
                    "metadata": {},
                    "execution_count": 82
                }
            ],
            "metadata": {}
        },
        {
            "cell_type": "code",
            "execution_count": 83,
            "source": [
                "mse1 = (check_test[\"error\"] ** 2).mean()\r\n",
                "\r\n",
                "mse1"
            ],
            "outputs": [
                {
                    "output_type": "execute_result",
                    "data": {
                        "text/plain": [
                            "21.51744423117736"
                        ]
                    },
                    "metadata": {},
                    "execution_count": 83
                }
            ],
            "metadata": {}
        },
        {
            "cell_type": "code",
            "execution_count": 84,
            "source": [
                "from sklearn.metrics import r2_score\r\n",
                "\r\n",
                "r2_score(check_test[\"y_pred\"], check_test[\"y_test\"])"
            ],
            "outputs": [
                {
                    "output_type": "execute_result",
                    "data": {
                        "text/plain": [
                            "0.6693702691495589"
                        ]
                    },
                    "metadata": {},
                    "execution_count": 84
                }
            ],
            "metadata": {}
        },
        {
            "cell_type": "markdown",
            "source": [
                "## Задание 2"
            ],
            "metadata": {}
        },
        {
            "cell_type": "markdown",
            "source": [],
            "metadata": {}
        }
    ],
    "metadata": {
        "orig_nbformat": 4,
        "language_info": {
            "name": "python",
            "version": "3.9.6",
            "mimetype": "text/x-python",
            "codemirror_mode": {
                "name": "ipython",
                "version": 3
            },
            "pygments_lexer": "ipython3",
            "nbconvert_exporter": "python",
            "file_extension": ".py"
        },
        "kernelspec": {
            "name": "python3",
            "display_name": "Python 3.9.6 64-bit"
        },
        "interpreter": {
            "hash": "d9aede4be6e81a40b0fa095e83f277e9336160157c6e4cd06027d8babb990a2b"
        }
    },
    "nbformat": 4,
    "nbformat_minor": 2
}